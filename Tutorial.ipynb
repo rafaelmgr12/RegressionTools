{
 "cells": [
  {
   "cell_type": "markdown",
   "metadata": {},
   "source": [
    "# Tutorial"
   ]
  },
  {
   "cell_type": "markdown",
   "metadata": {},
   "source": [
    "## Import The Libs"
   ]
  },
  {
   "cell_type": "code",
   "execution_count": 1,
   "metadata": {},
   "outputs": [],
   "source": [
    "## Import libs\n",
    "import numpy as np\n",
    "import pandas as pd\n",
    "import sys\n",
    "import matplotlib.pyplot as plt\n",
    "import seaborn as sns\n",
    "sys.path.insert(1, 'modules/')\n",
    "\n",
    "import data_processing as dp\n",
    "from Regression import Regression\n",
    "\n",
    "from sklearn.preprocessing import StandardScaler\n",
    "std = StandardScaler()\n",
    "std1 = StandardScaler()"
   ]
  },
  {
   "cell_type": "markdown",
   "metadata": {},
   "source": [
    "## Read the Data and preprocessing"
   ]
  },
  {
   "cell_type": "code",
   "execution_count": 2,
   "metadata": {},
   "outputs": [],
   "source": [
    "data = pd.read_csv('datasets/USA_Housing.csv')\n",
    "X = data[['Avg. Area Income', 'Avg. Area House Age', 'Avg. Area Number of Rooms',\n",
    "               'Avg. Area Number of Bedrooms', 'Area Population']].values\n",
    "X = std.fit_transform(X)\n",
    "\n",
    "y = data['Price'].values\n",
    "y = std1.fit_transform(y.reshape(-1,1))\n",
    "y = dp.discritizer_target(y)\n"
   ]
  },
  {
   "cell_type": "markdown",
   "metadata": {},
   "source": [
    "## Choose the Machine Learning Algorithims."
   ]
  },
  {
   "cell_type": "code",
   "execution_count": 3,
   "metadata": {},
   "outputs": [],
   "source": [
    "\n",
    "MLM = [\n",
    "    'DecisionTreeClassifier()',\n",
    "    'KNeighborsClassifier()',\n",
    "    'DecisionTreeRegressor()',\n",
    "    'RandomForestRegressor()'\n",
    "\n",
    "]\n",
    "\n",
    "# choose grid parameters\n",
    "grid = {\n",
    "    'DecisionTreeClassifier()': [\n",
    "        {'criterion': ['gini','entropy'], 'splitter': ['random', 'best'], 'max_features':['auto', 'sqrt', 'log2']}],\n",
    "    'KNeighborsClassifier()': [\n",
    "        {'n_neighbors': [3, 4, 5], 'metric': ['minkowski']}],\n",
    "     'DecisionTreeRegressor()': [\n",
    "        {'criterion': ['mse', 'friedman_mse'], 'splitter': ['random', 'best'], 'max_features':['auto', 'sqrt', 'log2']}],     \n",
    "    'RandomForestRegressor()' : [{\"n_estimators\": list(range(100,500,100)) , \"max_depth\": list(range(2,20,10)) }],\n",
    "}\n"
   ]
  },
  {
   "cell_type": "code",
   "execution_count": 4,
   "metadata": {},
   "outputs": [],
   "source": [
    "grid_searcher = Regression(MLM, grid)\n",
    "\n",
    "X_train,X_test,y_train,y_test = dp.tts_split(X,y,0.3,5)\n",
    "\n"
   ]
  },
  {
   "cell_type": "code",
   "execution_count": 5,
   "metadata": {},
   "outputs": [
    {
     "name": "stdout",
     "output_type": "stream",
     "text": [
      "Executing grid search for DecisionTreeRegressor().\n",
      "Fitting 5 folds for each of 12 candidates, totalling 60 fits\n"
     ]
    },
    {
     "name": "stderr",
     "output_type": "stream",
     "text": [
      "[Parallel(n_jobs=-1)]: Using backend LokyBackend with 4 concurrent workers.\n",
      "[Parallel(n_jobs=-1)]: Done  60 out of  60 | elapsed:    1.2s finished\n",
      "[Parallel(n_jobs=-1)]: Using backend LokyBackend with 4 concurrent workers.\n"
     ]
    },
    {
     "name": "stdout",
     "output_type": "stream",
     "text": [
      "Elapsed time: 1.275s\n",
      "Executing grid search for RandomForestRegressor().\n",
      "Fitting 5 folds for each of 8 candidates, totalling 40 fits\n"
     ]
    },
    {
     "name": "stderr",
     "output_type": "stream",
     "text": [
      "[Parallel(n_jobs=-1)]: Done  40 out of  40 | elapsed:   36.2s finished\n"
     ]
    },
    {
     "name": "stdout",
     "output_type": "stream",
     "text": [
      "Elapsed time: 37.279s\n"
     ]
    }
   ],
   "source": [
    "grid_searcher.apply_grid_search(X_train, y_train[:,100], k=5)\n"
   ]
  },
  {
   "cell_type": "code",
   "execution_count": 6,
   "metadata": {},
   "outputs": [
    {
     "name": "stdout",
     "output_type": "stream",
     "text": [
      "Executing grid search for DecisionTreeClassifier().\n",
      "Fitting 5 folds for each of 12 candidates, totalling 60 fits\n"
     ]
    },
    {
     "name": "stderr",
     "output_type": "stream",
     "text": [
      "[Parallel(n_jobs=-1)]: Using backend LokyBackend with 4 concurrent workers.\n",
      "[Parallel(n_jobs=-1)]: Done  60 out of  60 | elapsed:    4.8s finished\n"
     ]
    },
    {
     "name": "stdout",
     "output_type": "stream",
     "text": [
      "Elapsed time: 5.287s\n",
      "Executing grid search for KNeighborsClassifier().\n",
      "Fitting 5 folds for each of 3 candidates, totalling 15 fits\n"
     ]
    },
    {
     "name": "stderr",
     "output_type": "stream",
     "text": [
      "[Parallel(n_jobs=-1)]: Using backend LokyBackend with 4 concurrent workers.\n"
     ]
    },
    {
     "name": "stdout",
     "output_type": "stream",
     "text": [
      "Elapsed time: 28.963s\n"
     ]
    },
    {
     "name": "stderr",
     "output_type": "stream",
     "text": [
      "[Parallel(n_jobs=-1)]: Done  15 out of  15 | elapsed:   28.8s finished\n"
     ]
    }
   ],
   "source": [
    "grid_searcher.apply_grid_search_pdf(X_train, y_train[:,:100])\n",
    "\n"
   ]
  },
  {
   "cell_type": "code",
   "execution_count": 7,
   "metadata": {},
   "outputs": [
    {
     "name": "stdout",
     "output_type": "stream",
     "text": [
      "                  method  mean squared error (%)  standard deviation (%)\n",
      "1  RandomForestRegressor                0.525391                0.001400\n",
      "0  DecisionTreeRegressor                0.422882                0.007845\n"
     ]
    }
   ],
   "source": [
    "grid_searcher.show_dataframe_reg()\n"
   ]
  },
  {
   "cell_type": "code",
   "execution_count": 8,
   "metadata": {},
   "outputs": [
    {
     "name": "stdout",
     "output_type": "stream",
     "text": [
      "                   method  mean accuracy (%)  standard deviation (%)\n",
      "0  DecisionTreeClassifier           0.056857                0.007845\n",
      "1    KNeighborsClassifier           0.007429                0.001400\n"
     ]
    }
   ],
   "source": [
    "grid_searcher.show_dataframe_pdf()"
   ]
  },
  {
   "cell_type": "code",
   "execution_count": 9,
   "metadata": {},
   "outputs": [
    {
     "name": "stdout",
     "output_type": "stream",
     "text": [
      "DecisionTreeClassifier {'criterion': 'entropy', 'max_features': 'sqrt', 'splitter': 'best'}\n",
      "KNeighborsClassifier {'metric': 'minkowski', 'n_neighbors': 3}\n",
      "DecisionTreeRegressor {'criterion': 'friedman_mse', 'max_features': 'log2', 'splitter': 'random'}\n",
      "RandomForestRegressor {'max_depth': 2, 'n_estimators': 300}\n"
     ]
    }
   ],
   "source": [
    "grid_searcher.show_best_parameters()"
   ]
  },
  {
   "cell_type": "markdown",
   "metadata": {},
   "source": [
    "## Evaluation"
   ]
  },
  {
   "cell_type": "code",
   "execution_count": 10,
   "metadata": {},
   "outputs": [
    {
     "name": "stderr",
     "output_type": "stream",
     "text": [
      "/home/rafael/.local/lib/python3.8/site-packages/sklearn/utils/validation.py:68: FutureWarning: Pass criterion=mse as keyword args. From version 0.25 passing these as positional arguments will result in an error\n",
      "  warnings.warn(\"Pass {} as keyword args. From version 0.25 \"\n"
     ]
    },
    {
     "data": {
      "text/plain": [
       "DecisionTreeClassifier(criterion='entropy', max_features='auto')"
      ]
     },
     "execution_count": 10,
     "metadata": {},
     "output_type": "execute_result"
    }
   ],
   "source": [
    "from sklearn.tree import DecisionTreeRegressor,DecisionTreeClassifier\n",
    "model = DecisionTreeRegressor('mse',splitter='random',max_features = 'log2')\n",
    "pdf = DecisionTreeClassifier( **{'criterion': 'entropy', 'max_features': 'auto', 'splitter': 'best'})\n",
    "model.fit(X_train, y_train[:,100])\n",
    "pdf.fit(X_train,y_train[:,:100])"
   ]
  },
  {
   "cell_type": "code",
   "execution_count": 11,
   "metadata": {},
   "outputs": [],
   "source": [
    "pdf_pred = pdf.predict(X_test)\n",
    "predictions = model.predict(X_test)"
   ]
  },
  {
   "cell_type": "code",
   "execution_count": 12,
   "metadata": {},
   "outputs": [],
   "source": [
    "a =np.sum(pdf_pred[:,:],axis=0)"
   ]
  },
  {
   "cell_type": "code",
   "execution_count": 13,
   "metadata": {},
   "outputs": [
    {
     "data": {
      "text/plain": [
       "[<matplotlib.lines.Line2D at 0x7f8e18db0fa0>]"
      ]
     },
     "execution_count": 13,
     "metadata": {},
     "output_type": "execute_result"
    },
    {
     "data": {
      "image/png": "[encoded data removed]",
      "text/plain": [
       "<Figure size 432x288 with 1 Axes>"
      ]
     },
     "metadata": {
      "needs_background": "light"
     },
     "output_type": "display_data"
    }
   ],
   "source": [
    "plt.plot(np.sum(pdf_pred[:,:],axis=0))"
   ]
  },
  {
   "cell_type": "code",
   "execution_count": 14,
   "metadata": {},
   "outputs": [
    {
     "data": {
      "text/plain": [
       "(<matplotlib.collections.PathCollection at 0x7f8e18cfee50>,)"
      ]
     },
     "execution_count": 14,
     "metadata": {},
     "output_type": "execute_result"
    },
    {
     "data": {
      "image/png": "[encoded data removed]",
      "text/plain": [
       "<Figure size 432x288 with 1 Axes>"
      ]
     },
     "metadata": {
      "needs_background": "light"
     },
     "output_type": "display_data"
    }
   ],
   "source": [
    "plt.scatter(y_test[:,100],predictions),"
   ]
  },
  {
   "cell_type": "code",
   "execution_count": 15,
   "metadata": {},
   "outputs": [
    {
     "name": "stdout",
     "output_type": "stream",
     "text": [
      "MAE: 0.46609390878584017\n",
      "MSE: 0.3461970016199951\n",
      "RMSE: 0.588385079365542\n"
     ]
    }
   ],
   "source": [
    "from sklearn import metrics\n",
    "\n",
    "print('MAE:', metrics.mean_absolute_error(y_test[:,100], predictions))\n",
    "print('MSE:', metrics.mean_squared_error(y_test[:,100], predictions))\n",
    "print('RMSE:', np.sqrt(metrics.mean_squared_error(y_test[:,100], predictions)))"
   ]
  },
  {
   "cell_type": "markdown",
   "metadata": {},
   "source": [
    "## Extract Infomation from the PDF"
   ]
  },
  {
   "cell_type": "markdown",
   "metadata": {},
   "source": [
    "We can extract a single-value solution using the **PDF's**, using\n",
    "$$x_{mean} = \\int x_{pred} * PDF(x)dx $$"
   ]
  },
  {
   "cell_type": "code",
   "execution_count": 16,
   "metadata": {},
   "outputs": [],
   "source": [
    "x = np.linspace(predictions.min(),predictions.max(),100)"
   ]
  },
  {
   "cell_type": "code",
   "execution_count": 17,
   "metadata": {},
   "outputs": [
    {
     "data": {
      "text/plain": [
       "(1500, 100)"
      ]
     },
     "execution_count": 17,
     "metadata": {},
     "output_type": "execute_result"
    }
   ],
   "source": [
    "pdf_pred.shape"
   ]
  },
  {
   "cell_type": "code",
   "execution_count": 18,
   "metadata": {},
   "outputs": [],
   "source": [
    "from scipy import integrate\n",
    "avg_pdf = []\n",
    "for i in range(len(pdf_pred)):\n",
    "    avg_pdf.append(integrate.simps(predictions[i]*pdf_pred[i,:]))"
   ]
  },
  {
   "cell_type": "code",
   "execution_count": 19,
   "metadata": {},
   "outputs": [
    {
     "data": {
      "text/plain": [
       "<matplotlib.collections.PathCollection at 0x7f8e18c94940>"
      ]
     },
     "execution_count": 19,
     "metadata": {},
     "output_type": "execute_result"
    },
    {
     "data": {
      "image/png": "[encoded data removed]",
      "text/plain": [
       "<Figure size 432x288 with 1 Axes>"
      ]
     },
     "metadata": {
      "needs_background": "light"
     },
     "output_type": "display_data"
    }
   ],
   "source": [
    "plt.scatter(y_test[:,100],avg_pdf)"
   ]
  },
  {
   "cell_type": "code",
   "execution_count": 20,
   "metadata": {},
   "outputs": [
    {
     "name": "stdout",
     "output_type": "stream",
     "text": [
      "MAE: 0.46609390878584017\n",
      "MSE: 0.3461970016199951\n",
      "RMSE: 0.588385079365542\n"
     ]
    }
   ],
   "source": [
    "print('MAE:', metrics.mean_absolute_error(y_test[:,100], avg_pdf))\n",
    "print('MSE:', metrics.mean_squared_error(y_test[:,100], avg_pdf))\n",
    "print('RMSE:', np.sqrt(metrics.mean_squared_error(y_test[:,100], avg_pdf)))"
   ]
  },
  {
   "cell_type": "markdown",
   "metadata": {},
   "source": [
    "# Neural Network"
   ]
  },
  {
   "cell_type": "markdown",
   "metadata": {},
   "source": [
    "We have done the hypertunig using the file NNRegression.py. We can read the statistics of the best model and then implements the code."
   ]
  },
  {
   "cell_type": "code",
   "execution_count": 21,
   "metadata": {},
   "outputs": [],
   "source": [
    "# Neural Network Libs\n",
    "\n",
    "import keras\n",
    "import tensorflow as tf\n",
    "from tensorflow.keras.models import Sequential\n",
    "from tensorflow.keras.layers import Dense, Flatten, Dropout, Conv2D, MaxPooling2D, BatchNormalization, Activation\n",
    "from tensorflow.keras.callbacks import ModelCheckpoint, EarlyStopping\n",
    "from tensorflow.keras.optimizers import Adam\n",
    "from keras import backend as K\n",
    "from sklearn.metrics import confusion_matrix\n",
    "import keras as ks\n",
    "from tensorflow.keras.constraints import max_norm\n",
    "from tensorflow.keras import layers\n",
    "from tensorflow.keras import regularizers"
   ]
  },
  {
   "cell_type": "code",
   "execution_count": 22,
   "metadata": {},
   "outputs": [],
   "source": [
    "stats = pd.read_csv(\"statistics.csv\")"
   ]
  },
  {
   "cell_type": "code",
   "execution_count": 23,
   "metadata": {},
   "outputs": [
    {
     "data": {
      "text/html": [
       "<div>\n",
       "<style scoped>\n",
       "    .dataframe tbody tr th:only-of-type {\n",
       "        vertical-align: middle;\n",
       "    }\n",
       "\n",
       "    .dataframe tbody tr th {\n",
       "        vertical-align: top;\n",
       "    }\n",
       "\n",
       "    .dataframe thead th {\n",
       "        text-align: right;\n",
       "    }\n",
       "</style>\n",
       "<table border=\"1\" class=\"dataframe\">\n",
       "  <thead>\n",
       "    <tr style=\"text-align: right;\">\n",
       "      <th></th>\n",
       "      <th>start</th>\n",
       "      <th>end</th>\n",
       "      <th>duration</th>\n",
       "      <th>round_epochs</th>\n",
       "      <th>loss</th>\n",
       "      <th>pdf_loss</th>\n",
       "      <th>reg_loss</th>\n",
       "      <th>pdf_acc</th>\n",
       "      <th>reg_mse</th>\n",
       "      <th>val_loss</th>\n",
       "      <th>val_pdf_loss</th>\n",
       "      <th>val_reg_loss</th>\n",
       "      <th>val_pdf_acc</th>\n",
       "      <th>val_reg_mse</th>\n",
       "      <th>activation</th>\n",
       "      <th>batch_size</th>\n",
       "      <th>compile</th>\n",
       "      <th>first_layer</th>\n",
       "      <th>second_layer</th>\n",
       "      <th>third_layer</th>\n",
       "    </tr>\n",
       "  </thead>\n",
       "  <tbody>\n",
       "    <tr>\n",
       "      <th>4</th>\n",
       "      <td>06/15/21-141601</td>\n",
       "      <td>06/15/21-141619</td>\n",
       "      <td>17.846273</td>\n",
       "      <td>150</td>\n",
       "      <td>3.498394</td>\n",
       "      <td>3.859629</td>\n",
       "      <td>0.247274</td>\n",
       "      <td>0.056071</td>\n",
       "      <td>0.096160</td>\n",
       "      <td>3.896734</td>\n",
       "      <td>4.299534</td>\n",
       "      <td>0.271524</td>\n",
       "      <td>0.025714</td>\n",
       "      <td>0.114711</td>\n",
       "      <td>relu</td>\n",
       "      <td>32</td>\n",
       "      <td>adam</td>\n",
       "      <td>30</td>\n",
       "      <td>10</td>\n",
       "      <td>10</td>\n",
       "    </tr>\n",
       "    <tr>\n",
       "      <th>2</th>\n",
       "      <td>06/15/21-141523</td>\n",
       "      <td>06/15/21-141541</td>\n",
       "      <td>18.023037</td>\n",
       "      <td>150</td>\n",
       "      <td>3.527492</td>\n",
       "      <td>3.891674</td>\n",
       "      <td>0.249854</td>\n",
       "      <td>0.050000</td>\n",
       "      <td>0.097029</td>\n",
       "      <td>3.976317</td>\n",
       "      <td>4.388830</td>\n",
       "      <td>0.263702</td>\n",
       "      <td>0.042857</td>\n",
       "      <td>0.110710</td>\n",
       "      <td>relu</td>\n",
       "      <td>32</td>\n",
       "      <td>adam</td>\n",
       "      <td>20</td>\n",
       "      <td>10</td>\n",
       "      <td>10</td>\n",
       "    </tr>\n",
       "    <tr>\n",
       "      <th>1</th>\n",
       "      <td>06/15/21-141504</td>\n",
       "      <td>06/15/21-141523</td>\n",
       "      <td>19.123019</td>\n",
       "      <td>150</td>\n",
       "      <td>3.502400</td>\n",
       "      <td>3.863735</td>\n",
       "      <td>0.250391</td>\n",
       "      <td>0.060714</td>\n",
       "      <td>0.098150</td>\n",
       "      <td>3.952953</td>\n",
       "      <td>4.361624</td>\n",
       "      <td>0.274922</td>\n",
       "      <td>0.022857</td>\n",
       "      <td>0.119810</td>\n",
       "      <td>relu</td>\n",
       "      <td>32</td>\n",
       "      <td>adam</td>\n",
       "      <td>10</td>\n",
       "      <td>20</td>\n",
       "      <td>10</td>\n",
       "    </tr>\n",
       "    <tr>\n",
       "      <th>3</th>\n",
       "      <td>06/15/21-141541</td>\n",
       "      <td>06/15/21-141601</td>\n",
       "      <td>19.636926</td>\n",
       "      <td>150</td>\n",
       "      <td>3.487379</td>\n",
       "      <td>3.846105</td>\n",
       "      <td>0.258854</td>\n",
       "      <td>0.062143</td>\n",
       "      <td>0.105919</td>\n",
       "      <td>3.928025</td>\n",
       "      <td>4.333198</td>\n",
       "      <td>0.281466</td>\n",
       "      <td>0.037143</td>\n",
       "      <td>0.125224</td>\n",
       "      <td>relu</td>\n",
       "      <td>32</td>\n",
       "      <td>adam</td>\n",
       "      <td>20</td>\n",
       "      <td>20</td>\n",
       "      <td>10</td>\n",
       "    </tr>\n",
       "    <tr>\n",
       "      <th>0</th>\n",
       "      <td>06/15/21-141442</td>\n",
       "      <td>06/15/21-141504</td>\n",
       "      <td>22.104913</td>\n",
       "      <td>150</td>\n",
       "      <td>3.536479</td>\n",
       "      <td>3.900009</td>\n",
       "      <td>0.264700</td>\n",
       "      <td>0.053929</td>\n",
       "      <td>0.108672</td>\n",
       "      <td>3.928832</td>\n",
       "      <td>4.335188</td>\n",
       "      <td>0.271621</td>\n",
       "      <td>0.022857</td>\n",
       "      <td>0.117575</td>\n",
       "      <td>relu</td>\n",
       "      <td>32</td>\n",
       "      <td>adam</td>\n",
       "      <td>10</td>\n",
       "      <td>10</td>\n",
       "      <td>10</td>\n",
       "    </tr>\n",
       "  </tbody>\n",
       "</table>\n",
       "</div>"
      ],
      "text/plain": [
       "             start              end   duration  round_epochs      loss  \\\n",
       "4  06/15/21-141601  06/15/21-141619  17.846273           150  3.498394   \n",
       "2  06/15/21-141523  06/15/21-141541  18.023037           150  3.527492   \n",
       "1  06/15/21-141504  06/15/21-141523  19.123019           150  3.502400   \n",
       "3  06/15/21-141541  06/15/21-141601  19.636926           150  3.487379   \n",
       "0  06/15/21-141442  06/15/21-141504  22.104913           150  3.536479   \n",
       "\n",
       "   pdf_loss  reg_loss   pdf_acc   reg_mse  val_loss  val_pdf_loss  \\\n",
       "4  3.859629  0.247274  0.056071  0.096160  3.896734      4.299534   \n",
       "2  3.891674  0.249854  0.050000  0.097029  3.976317      4.388830   \n",
       "1  3.863735  0.250391  0.060714  0.098150  3.952953      4.361624   \n",
       "3  3.846105  0.258854  0.062143  0.105919  3.928025      4.333198   \n",
       "0  3.900009  0.264700  0.053929  0.108672  3.928832      4.335188   \n",
       "\n",
       "   val_reg_loss  val_pdf_acc  val_reg_mse activation  batch_size compile  \\\n",
       "4      0.271524     0.025714     0.114711       relu          32    adam   \n",
       "2      0.263702     0.042857     0.110710       relu          32    adam   \n",
       "1      0.274922     0.022857     0.119810       relu          32    adam   \n",
       "3      0.281466     0.037143     0.125224       relu          32    adam   \n",
       "0      0.271621     0.022857     0.117575       relu          32    adam   \n",
       "\n",
       "   first_layer  second_layer  third_layer  \n",
       "4           30            10           10  \n",
       "2           20            10           10  \n",
       "1           10            20           10  \n",
       "3           20            20           10  \n",
       "0           10            10           10  "
      ]
     },
     "execution_count": 23,
     "metadata": {},
     "output_type": "execute_result"
    }
   ],
   "source": [
    "stats.head().sort_values(\"reg_mse\")"
   ]
  },
  {
   "cell_type": "code",
   "execution_count": 24,
   "metadata": {},
   "outputs": [],
   "source": [
    "EarlyStop = EarlyStopping(monitor='reg_mse', mode='min', patience=10)\n",
    "BATCH_SIZE = 64\n",
    "STEPS_PER_EPOCH = len(data)//BATCH_SIZE\n",
    "lr_schedule = tf.keras.optimizers.schedules.InverseTimeDecay(\n",
    "        0.0001,\n",
    "        decay_steps=STEPS_PER_EPOCH*1000,\n",
    "        decay_rate=1,\n",
    "        staircase=False)"
   ]
  },
  {
   "cell_type": "code",
   "execution_count": 25,
   "metadata": {},
   "outputs": [],
   "source": [
    "inputs = keras.layers.Input(5)\n",
    "x = BatchNormalization()(inputs)\n",
    "x = Dense(30, kernel_initializer='normal',  kernel_constraint=max_norm(2.) ,activation='relu',kernel_regularizer=regularizers.l1_l2(l1=1e-5, l2=1e-4),\n",
    "                              bias_regularizer=regularizers.l2(1e-4),activity_regularizer=regularizers.l2(1e-5)) (x)\n",
    "x = BatchNormalization()(x)\n",
    "x = Dense(10, kernel_initializer='normal',  kernel_constraint=max_norm(2.) ,activation='relu',kernel_regularizer=regularizers.l1_l2(l1=1e-5, l2=1e-4),\n",
    "                              bias_regularizer=regularizers.l2(1e-4),activity_regularizer=regularizers.l2(1e-5)) (x)\n",
    "x = BatchNormalization()(x)\n",
    "#x = Dense(10, kernel_initializer='normal',  kernel_constraint=max_norm(2.) ,activation='relu',kernel_regularizer=regularizers.l1_l2(l1=1e-5, l2=1e-4),\n",
    "#                              bias_regularizer=regularizers.l2(1e-4),activity_regularizer=regularizers.l2(1e-5)) (x)\n",
    "output1 = Dense(1,activation = \"linear\",name = \"reg\") (x)\n",
    "output2 = Dense(100,activation = \"softmax\",name =\"pdf\")(x) # using the numbers of bins\n",
    "model = keras.Model(inputs=inputs, outputs=[output1,output2], name=\"rafael\")"
   ]
  },
  {
   "cell_type": "code",
   "execution_count": 26,
   "metadata": {},
   "outputs": [],
   "source": [
    "model.compile(\n",
    "    loss={'reg': 'mean_absolute_error', \n",
    "                    'pdf': keras.losses.CategoricalCrossentropy()},loss_weights=[0.1,0.9],\n",
    "              optimizer=ks.optimizers.Adam(lr_schedule),\n",
    "              metrics={'pdf': \"acc\",\n",
    "                      'reg': \"mse\"})"
   ]
  },
  {
   "cell_type": "code",
   "execution_count": 27,
   "metadata": {
    "collapsed": true,
    "jupyter": {
     "outputs_hidden": true
    },
    "tags": []
   },
   "outputs": [
    {
     "name": "stdout",
     "output_type": "stream",
     "text": [
      "Epoch 1/128\n",
      "88/88 [==============================] - 5s 16ms/step - loss: 4.3706 - reg_loss: 1.5447 - pdf_loss: 4.6843 - reg_mse: 3.9361 - pdf_acc: 0.0108 - val_loss: 4.2226 - val_reg_loss: 0.7974 - val_pdf_loss: 4.6028 - val_reg_mse: 0.9954 - val_pdf_acc: 0.0014\n",
      "Epoch 2/128\n",
      "88/88 [==============================] - 1s 6ms/step - loss: 4.2960 - reg_loss: 1.0810 - pdf_loss: 4.6528 - reg_mse: 1.9301 - pdf_acc: 0.0109 - val_loss: 4.2186 - val_reg_loss: 0.7849 - val_pdf_loss: 4.5998 - val_reg_mse: 0.9607 - val_pdf_acc: 0.0014\n",
      "Epoch 3/128\n",
      "88/88 [==============================] - 0s 3ms/step - loss: 4.2344 - reg_loss: 0.7611 - pdf_loss: 4.6200 - reg_mse: 0.9396 - pdf_acc: 0.0120 - val_loss: 4.2094 - val_reg_loss: 0.7543 - val_pdf_loss: 4.5930 - val_reg_mse: 0.8794 - val_pdf_acc: 0.0043\n",
      "Epoch 4/128\n",
      "88/88 [==============================] - 0s 5ms/step - loss: 4.1884 - reg_loss: 0.5990 - pdf_loss: 4.5869 - reg_mse: 0.5816 - pdf_acc: 0.0113 - val_loss: 4.1905 - val_reg_loss: 0.6978 - val_pdf_loss: 4.5783 - val_reg_mse: 0.7362 - val_pdf_acc: 0.0086\n",
      "Epoch 5/128\n",
      "88/88 [==============================] - 0s 3ms/step - loss: 4.1583 - reg_loss: 0.5388 - pdf_loss: 4.5601 - reg_mse: 0.4653 - pdf_acc: 0.0174 - val_loss: 4.1604 - val_reg_loss: 0.6121 - val_pdf_loss: 4.5543 - val_reg_mse: 0.5543 - val_pdf_acc: 0.0171\n",
      "Epoch 6/128\n",
      "88/88 [==============================] - 0s 5ms/step - loss: 4.1424 - reg_loss: 0.4987 - pdf_loss: 4.5470 - reg_mse: 0.3953 - pdf_acc: 0.0230 - val_loss: 4.1242 - val_reg_loss: 0.5190 - val_pdf_loss: 4.5244 - val_reg_mse: 0.4010 - val_pdf_acc: 0.0229\n",
      "Epoch 7/128\n",
      "88/88 [==============================] - 0s 2ms/step - loss: 4.1110 - reg_loss: 0.4967 - pdf_loss: 4.5122 - reg_mse: 0.3863 - pdf_acc: 0.0223 - val_loss: 4.0906 - val_reg_loss: 0.4350 - val_pdf_loss: 4.4965 - val_reg_mse: 0.2903 - val_pdf_acc: 0.0257\n",
      "Epoch 8/128\n",
      "88/88 [==============================] - 0s 2ms/step - loss: 4.0769 - reg_loss: 0.4629 - pdf_loss: 4.4781 - reg_mse: 0.3363 - pdf_acc: 0.0431 - val_loss: 4.0627 - val_reg_loss: 0.4088 - val_pdf_loss: 4.4683 - val_reg_mse: 0.2635 - val_pdf_acc: 0.0371\n",
      "Epoch 9/128\n",
      "88/88 [==============================] - 0s 3ms/step - loss: 4.0574 - reg_loss: 0.4670 - pdf_loss: 4.4560 - reg_mse: 0.3440 - pdf_acc: 0.0289 - val_loss: 4.0383 - val_reg_loss: 0.4003 - val_pdf_loss: 4.4422 - val_reg_mse: 0.2536 - val_pdf_acc: 0.0371\n",
      "Epoch 10/128\n",
      "88/88 [==============================] - 0s 3ms/step - loss: 4.0401 - reg_loss: 0.4394 - pdf_loss: 4.4399 - reg_mse: 0.3069 - pdf_acc: 0.0325 - val_loss: 4.0130 - val_reg_loss: 0.4019 - val_pdf_loss: 4.4139 - val_reg_mse: 0.2521 - val_pdf_acc: 0.0400\n",
      "Epoch 11/128\n",
      "88/88 [==============================] - 0s 4ms/step - loss: 4.0154 - reg_loss: 0.4408 - pdf_loss: 4.4123 - reg_mse: 0.3044 - pdf_acc: 0.0342 - val_loss: 3.9871 - val_reg_loss: 0.3882 - val_pdf_loss: 4.3866 - val_reg_mse: 0.2340 - val_pdf_acc: 0.0500\n",
      "Epoch 12/128\n",
      "88/88 [==============================] - 0s 4ms/step - loss: 4.0023 - reg_loss: 0.4125 - pdf_loss: 4.4008 - reg_mse: 0.2700 - pdf_acc: 0.0343 - val_loss: 3.9590 - val_reg_loss: 0.3750 - val_pdf_loss: 4.3569 - val_reg_mse: 0.2176 - val_pdf_acc: 0.0471\n",
      "Epoch 13/128\n",
      "88/88 [==============================] - 0s 4ms/step - loss: 3.9695 - reg_loss: 0.4049 - pdf_loss: 4.3653 - reg_mse: 0.2534 - pdf_acc: 0.0401 - val_loss: 3.9315 - val_reg_loss: 0.3664 - val_pdf_loss: 4.3273 - val_reg_mse: 0.2028 - val_pdf_acc: 0.0529\n",
      "Epoch 14/128\n",
      "88/88 [==============================] - 0s 3ms/step - loss: 3.9234 - reg_loss: 0.3887 - pdf_loss: 4.3158 - reg_mse: 0.2339 - pdf_acc: 0.0427 - val_loss: 3.9049 - val_reg_loss: 0.3526 - val_pdf_loss: 4.2993 - val_reg_mse: 0.1884 - val_pdf_acc: 0.0586\n",
      "Epoch 15/128\n",
      "88/88 [==============================] - 0s 5ms/step - loss: 3.8925 - reg_loss: 0.3714 - pdf_loss: 4.2834 - reg_mse: 0.2123 - pdf_acc: 0.0435 - val_loss: 3.8779 - val_reg_loss: 0.3460 - val_pdf_loss: 4.2700 - val_reg_mse: 0.1804 - val_pdf_acc: 0.0543\n",
      "Epoch 16/128\n",
      "88/88 [==============================] - 0s 4ms/step - loss: 3.8794 - reg_loss: 0.3579 - pdf_loss: 4.2703 - reg_mse: 0.1992 - pdf_acc: 0.0488 - val_loss: 3.8502 - val_reg_loss: 0.3344 - val_pdf_loss: 4.2405 - val_reg_mse: 0.1692 - val_pdf_acc: 0.0600\n",
      "Epoch 17/128\n",
      "88/88 [==============================] - 0s 5ms/step - loss: 3.8543 - reg_loss: 0.3658 - pdf_loss: 4.2416 - reg_mse: 0.2067 - pdf_acc: 0.0577 - val_loss: 3.8233 - val_reg_loss: 0.3217 - val_pdf_loss: 4.2121 - val_reg_mse: 0.1570 - val_pdf_acc: 0.0643\n",
      "Epoch 18/128\n",
      "88/88 [==============================] - 0s 3ms/step - loss: 3.8378 - reg_loss: 0.3491 - pdf_loss: 4.2251 - reg_mse: 0.1941 - pdf_acc: 0.0472 - val_loss: 3.7950 - val_reg_loss: 0.3170 - val_pdf_loss: 4.1811 - val_reg_mse: 0.1546 - val_pdf_acc: 0.0629\n",
      "Epoch 19/128\n",
      "88/88 [==============================] - 0s 5ms/step - loss: 3.8045 - reg_loss: 0.3557 - pdf_loss: 4.1873 - reg_mse: 0.2004 - pdf_acc: 0.0599 - val_loss: 3.7676 - val_reg_loss: 0.3088 - val_pdf_loss: 4.1516 - val_reg_mse: 0.1481 - val_pdf_acc: 0.0643\n",
      "Epoch 20/128\n",
      "88/88 [==============================] - 0s 5ms/step - loss: 3.7699 - reg_loss: 0.3519 - pdf_loss: 4.1493 - reg_mse: 0.1928 - pdf_acc: 0.0620 - val_loss: 3.7401 - val_reg_loss: 0.3031 - val_pdf_loss: 4.1216 - val_reg_mse: 0.1424 - val_pdf_acc: 0.0671\n",
      "Epoch 21/128\n",
      "88/88 [==============================] - 0s 5ms/step - loss: 3.7544 - reg_loss: 0.3376 - pdf_loss: 4.1337 - reg_mse: 0.1768 - pdf_acc: 0.0572 - val_loss: 3.7122 - val_reg_loss: 0.2948 - val_pdf_loss: 4.0916 - val_reg_mse: 0.1351 - val_pdf_acc: 0.0657\n",
      "Epoch 22/128\n",
      "88/88 [==============================] - 0s 3ms/step - loss: 3.7163 - reg_loss: 0.3221 - pdf_loss: 4.0931 - reg_mse: 0.1637 - pdf_acc: 0.0566 - val_loss: 3.6830 - val_reg_loss: 0.2878 - val_pdf_loss: 4.0599 - val_reg_mse: 0.1273 - val_pdf_acc: 0.0614\n",
      "Epoch 23/128\n",
      "88/88 [==============================] - 0s 5ms/step - loss: 3.6942 - reg_loss: 0.3219 - pdf_loss: 4.0686 - reg_mse: 0.1635 - pdf_acc: 0.0614 - val_loss: 3.6566 - val_reg_loss: 0.2800 - val_pdf_loss: 4.0314 - val_reg_mse: 0.1212 - val_pdf_acc: 0.0629\n",
      "Epoch 24/128\n",
      "88/88 [==============================] - 0s 5ms/step - loss: 3.6622 - reg_loss: 0.3210 - pdf_loss: 4.0331 - reg_mse: 0.1635 - pdf_acc: 0.0566 - val_loss: 3.6268 - val_reg_loss: 0.2796 - val_pdf_loss: 3.9984 - val_reg_mse: 0.1207 - val_pdf_acc: 0.0586\n",
      "Epoch 25/128\n",
      "88/88 [==============================] - 0s 4ms/step - loss: 3.6413 - reg_loss: 0.3218 - pdf_loss: 4.0097 - reg_mse: 0.1588 - pdf_acc: 0.0561 - val_loss: 3.6000 - val_reg_loss: 0.2697 - val_pdf_loss: 3.9697 - val_reg_mse: 0.1124 - val_pdf_acc: 0.0600\n",
      "Epoch 26/128\n",
      "88/88 [==============================] - 0s 3ms/step - loss: 3.5991 - reg_loss: 0.3122 - pdf_loss: 3.9640 - reg_mse: 0.1539 - pdf_acc: 0.0745 - val_loss: 3.5747 - val_reg_loss: 0.2674 - val_pdf_loss: 3.9419 - val_reg_mse: 0.1125 - val_pdf_acc: 0.0571\n",
      "Epoch 27/128\n",
      "88/88 [==============================] - 0s 6ms/step - loss: 3.5793 - reg_loss: 0.3033 - pdf_loss: 3.9430 - reg_mse: 0.1461 - pdf_acc: 0.0741 - val_loss: 3.5493 - val_reg_loss: 0.2617 - val_pdf_loss: 3.9142 - val_reg_mse: 0.1076 - val_pdf_acc: 0.0586\n",
      "Epoch 28/128\n",
      "88/88 [==============================] - 0s 4ms/step - loss: 3.5605 - reg_loss: 0.3178 - pdf_loss: 3.9205 - reg_mse: 0.1597 - pdf_acc: 0.0707 - val_loss: 3.5251 - val_reg_loss: 0.2613 - val_pdf_loss: 3.8874 - val_reg_mse: 0.1074 - val_pdf_acc: 0.0557\n",
      "Epoch 29/128\n",
      "88/88 [==============================] - 0s 4ms/step - loss: 3.5497 - reg_loss: 0.3154 - pdf_loss: 3.9088 - reg_mse: 0.1579 - pdf_acc: 0.0590 - val_loss: 3.5002 - val_reg_loss: 0.2534 - val_pdf_loss: 3.8606 - val_reg_mse: 0.1017 - val_pdf_acc: 0.0629\n",
      "Epoch 30/128\n",
      "88/88 [==============================] - 0s 3ms/step - loss: 3.5346 - reg_loss: 0.3295 - pdf_loss: 3.8904 - reg_mse: 0.1685 - pdf_acc: 0.0582 - val_loss: 3.4772 - val_reg_loss: 0.2573 - val_pdf_loss: 3.8347 - val_reg_mse: 0.1043 - val_pdf_acc: 0.0643\n",
      "Epoch 31/128\n",
      "88/88 [==============================] - 0s 3ms/step - loss: 3.4908 - reg_loss: 0.3127 - pdf_loss: 3.8435 - reg_mse: 0.1512 - pdf_acc: 0.0666 - val_loss: 3.4543 - val_reg_loss: 0.2524 - val_pdf_loss: 3.8097 - val_reg_mse: 0.1003 - val_pdf_acc: 0.0657\n",
      "Epoch 32/128\n",
      "88/88 [==============================] - 0s 4ms/step - loss: 3.4663 - reg_loss: 0.3008 - pdf_loss: 3.8177 - reg_mse: 0.1410 - pdf_acc: 0.0648 - val_loss: 3.4366 - val_reg_loss: 0.2542 - val_pdf_loss: 3.7899 - val_reg_mse: 0.1020 - val_pdf_acc: 0.0700\n",
      "Epoch 33/128\n",
      "88/88 [==============================] - 0s 3ms/step - loss: 3.4408 - reg_loss: 0.3034 - pdf_loss: 3.7891 - reg_mse: 0.1447 - pdf_acc: 0.0725 - val_loss: 3.4106 - val_reg_loss: 0.2553 - val_pdf_loss: 3.7609 - val_reg_mse: 0.1036 - val_pdf_acc: 0.0700\n",
      "Epoch 34/128\n",
      "88/88 [==============================] - 0s 4ms/step - loss: 3.4419 - reg_loss: 0.3232 - pdf_loss: 3.7880 - reg_mse: 0.1609 - pdf_acc: 0.0664 - val_loss: 3.3875 - val_reg_loss: 0.2524 - val_pdf_loss: 3.7355 - val_reg_mse: 0.1011 - val_pdf_acc: 0.0757\n",
      "Epoch 35/128\n",
      "88/88 [==============================] - 0s 3ms/step - loss: 3.4235 - reg_loss: 0.3378 - pdf_loss: 3.7660 - reg_mse: 0.1791 - pdf_acc: 0.0614 - val_loss: 3.3648 - val_reg_loss: 0.2490 - val_pdf_loss: 3.7107 - val_reg_mse: 0.0984 - val_pdf_acc: 0.0800\n",
      "Epoch 36/128\n",
      "88/88 [==============================] - 0s 4ms/step - loss: 3.4032 - reg_loss: 0.3142 - pdf_loss: 3.7460 - reg_mse: 0.1569 - pdf_acc: 0.0602 - val_loss: 3.3427 - val_reg_loss: 0.2500 - val_pdf_loss: 3.6860 - val_reg_mse: 0.0995 - val_pdf_acc: 0.0886\n",
      "Epoch 37/128\n",
      "88/88 [==============================] - 0s 4ms/step - loss: 3.3947 - reg_loss: 0.3259 - pdf_loss: 3.7353 - reg_mse: 0.1658 - pdf_acc: 0.0572 - val_loss: 3.3230 - val_reg_loss: 0.2501 - val_pdf_loss: 3.6641 - val_reg_mse: 0.0995 - val_pdf_acc: 0.0871\n",
      "Epoch 38/128\n",
      "88/88 [==============================] - 0s 4ms/step - loss: 3.3344 - reg_loss: 0.3061 - pdf_loss: 3.6705 - reg_mse: 0.1484 - pdf_acc: 0.0715 - val_loss: 3.3043 - val_reg_loss: 0.2532 - val_pdf_loss: 3.6430 - val_reg_mse: 0.1018 - val_pdf_acc: 0.0871\n",
      "Epoch 39/128\n",
      "88/88 [==============================] - 0s 6ms/step - loss: 3.3182 - reg_loss: 0.3050 - pdf_loss: 3.6526 - reg_mse: 0.1458 - pdf_acc: 0.0631 - val_loss: 3.2848 - val_reg_loss: 0.2490 - val_pdf_loss: 3.6217 - val_reg_mse: 0.0981 - val_pdf_acc: 0.0814\n",
      "Epoch 40/128\n",
      "88/88 [==============================] - 0s 4ms/step - loss: 3.3156 - reg_loss: 0.3153 - pdf_loss: 3.6486 - reg_mse: 0.1530 - pdf_acc: 0.0823 - val_loss: 3.2690 - val_reg_loss: 0.2517 - val_pdf_loss: 3.6039 - val_reg_mse: 0.1004 - val_pdf_acc: 0.0829\n",
      "Epoch 41/128\n",
      "88/88 [==============================] - 1s 6ms/step - loss: 3.2802 - reg_loss: 0.2945 - pdf_loss: 3.6115 - reg_mse: 0.1379 - pdf_acc: 0.0731 - val_loss: 3.2516 - val_reg_loss: 0.2526 - val_pdf_loss: 3.5845 - val_reg_mse: 0.1001 - val_pdf_acc: 0.0829\n",
      "Epoch 42/128\n",
      "88/88 [==============================] - 0s 5ms/step - loss: 3.2659 - reg_loss: 0.3081 - pdf_loss: 3.5942 - reg_mse: 0.1465 - pdf_acc: 0.0839 - val_loss: 3.2357 - val_reg_loss: 0.2501 - val_pdf_loss: 3.5671 - val_reg_mse: 0.0999 - val_pdf_acc: 0.0829\n",
      "Epoch 43/128\n",
      "88/88 [==============================] - 1s 6ms/step - loss: 3.2702 - reg_loss: 0.3107 - pdf_loss: 3.5987 - reg_mse: 0.1528 - pdf_acc: 0.0663 - val_loss: 3.2201 - val_reg_loss: 0.2532 - val_pdf_loss: 3.5493 - val_reg_mse: 0.1018 - val_pdf_acc: 0.0786\n",
      "Epoch 44/128\n",
      "88/88 [==============================] - 1s 7ms/step - loss: 3.2444 - reg_loss: 0.3002 - pdf_loss: 3.5712 - reg_mse: 0.1400 - pdf_acc: 0.0621 - val_loss: 3.2037 - val_reg_loss: 0.2471 - val_pdf_loss: 3.5318 - val_reg_mse: 0.0970 - val_pdf_acc: 0.0800\n",
      "Epoch 45/128\n",
      "88/88 [==============================] - 0s 5ms/step - loss: 3.2496 - reg_loss: 0.3091 - pdf_loss: 3.5760 - reg_mse: 0.1497 - pdf_acc: 0.0643 - val_loss: 3.1898 - val_reg_loss: 0.2489 - val_pdf_loss: 3.5162 - val_reg_mse: 0.0975 - val_pdf_acc: 0.0829\n",
      "Epoch 46/128\n",
      "88/88 [==============================] - 1s 8ms/step - loss: 3.2105 - reg_loss: 0.3040 - pdf_loss: 3.5331 - reg_mse: 0.1451 - pdf_acc: 0.0767 - val_loss: 3.1733 - val_reg_loss: 0.2476 - val_pdf_loss: 3.4980 - val_reg_mse: 0.0965 - val_pdf_acc: 0.0814\n",
      "Epoch 47/128\n",
      "88/88 [==============================] - 1s 8ms/step - loss: 3.2023 - reg_loss: 0.3037 - pdf_loss: 3.5240 - reg_mse: 0.1456 - pdf_acc: 0.0634 - val_loss: 3.1616 - val_reg_loss: 0.2484 - val_pdf_loss: 3.4849 - val_reg_mse: 0.0970 - val_pdf_acc: 0.0714\n",
      "Epoch 48/128\n",
      "88/88 [==============================] - 1s 6ms/step - loss: 3.2166 - reg_loss: 0.3250 - pdf_loss: 3.5375 - reg_mse: 0.1620 - pdf_acc: 0.0612 - val_loss: 3.1484 - val_reg_loss: 0.2475 - val_pdf_loss: 3.4704 - val_reg_mse: 0.0962 - val_pdf_acc: 0.0771\n",
      "Epoch 49/128\n",
      "88/88 [==============================] - 1s 7ms/step - loss: 3.1993 - reg_loss: 0.3165 - pdf_loss: 3.5192 - reg_mse: 0.1570 - pdf_acc: 0.0775 - val_loss: 3.1344 - val_reg_loss: 0.2488 - val_pdf_loss: 3.4547 - val_reg_mse: 0.0978 - val_pdf_acc: 0.0757\n",
      "Epoch 50/128\n",
      "88/88 [==============================] - 1s 9ms/step - loss: 3.1828 - reg_loss: 0.3113 - pdf_loss: 3.5014 - reg_mse: 0.1538 - pdf_acc: 0.0826 - val_loss: 3.1243 - val_reg_loss: 0.2499 - val_pdf_loss: 3.4434 - val_reg_mse: 0.0983 - val_pdf_acc: 0.0800\n",
      "Epoch 51/128\n",
      "88/88 [==============================] - 1s 7ms/step - loss: 3.1640 - reg_loss: 0.3027 - pdf_loss: 3.4816 - reg_mse: 0.1446 - pdf_acc: 0.0781 - val_loss: 3.1123 - val_reg_loss: 0.2493 - val_pdf_loss: 3.4301 - val_reg_mse: 0.0980 - val_pdf_acc: 0.0771\n",
      "Epoch 52/128\n",
      "88/88 [==============================] - 1s 6ms/step - loss: 3.1187 - reg_loss: 0.2871 - pdf_loss: 3.4329 - reg_mse: 0.1324 - pdf_acc: 0.0805 - val_loss: 3.1029 - val_reg_loss: 0.2498 - val_pdf_loss: 3.4195 - val_reg_mse: 0.0967 - val_pdf_acc: 0.0757\n",
      "Epoch 53/128\n",
      "88/88 [==============================] - 1s 7ms/step - loss: 3.1532 - reg_loss: 0.3119 - pdf_loss: 3.4685 - reg_mse: 0.1521 - pdf_acc: 0.0832 - val_loss: 3.0904 - val_reg_loss: 0.2465 - val_pdf_loss: 3.4060 - val_reg_mse: 0.0953 - val_pdf_acc: 0.0771\n",
      "Epoch 54/128\n",
      "88/88 [==============================] - 1s 6ms/step - loss: 3.1559 - reg_loss: 0.3276 - pdf_loss: 3.4698 - reg_mse: 0.1684 - pdf_acc: 0.0762 - val_loss: 3.0795 - val_reg_loss: 0.2463 - val_pdf_loss: 3.3939 - val_reg_mse: 0.0958 - val_pdf_acc: 0.0771\n"
     ]
    }
   ],
   "source": [
    "history = model.fit(X_train, {'pdf': y_train[:,:100], 'reg': y_train[:,100]}, batch_size = 32,epochs=128,validation_split = 0.2,verbose = 1,callbacks=[EarlyStop])"
   ]
  },
  {
   "cell_type": "code",
   "execution_count": 28,
   "metadata": {},
   "outputs": [
    {
     "name": "stdout",
     "output_type": "stream",
     "text": [
      "Testing set Mean Abs Error: 0.2480 \n",
      "\n",
      "\n",
      "Testing set Mean Square Error: 0.0944 \n",
      "\n",
      "\n",
      "Testing set Root Mean Square Error: 0.3073 \n"
     ]
    }
   ],
   "source": [
    "test_predictions = model.predict(X_test)\n",
    "\n",
    "\n",
    "print(\"Testing set Mean Abs Error: {:5.4f} \".format(metrics.mean_absolute_error(y_test[:,100],test_predictions[0])))\n",
    "print(\"\\n\")\n",
    "print(\"Testing set Mean Square Error: {:5.4f} \".format(metrics.mean_squared_error(y_test[:,100],test_predictions[0])))\n",
    "print(\"\\n\")\n",
    "print(\"Testing set Root Mean Square Error: {:5.4f} \".format(np.sqrt(metrics.mean_squared_error(y_test[:,100],test_predictions[0]))))"
   ]
  },
  {
   "cell_type": "code",
   "execution_count": 29,
   "metadata": {},
   "outputs": [],
   "source": [
    "z = test_predictions[0]\n",
    "pdf = test_predictions[1]"
   ]
  },
  {
   "cell_type": "code",
   "execution_count": 30,
   "metadata": {},
   "outputs": [
    {
     "data": {
      "text/plain": [
       "<matplotlib.collections.PathCollection at 0x7f8d8ccc4550>"
      ]
     },
     "execution_count": 30,
     "metadata": {},
     "output_type": "execute_result"
    },
    {
     "data": {
      "image/png": "[encoded data removed]",
      "text/plain": [
       "<Figure size 432x288 with 1 Axes>"
      ]
     },
     "metadata": {
      "needs_background": "light"
     },
     "output_type": "display_data"
    }
   ],
   "source": [
    "plt.scatter(y_test[:,100],test_predictions[0])"
   ]
  },
  {
   "cell_type": "code",
   "execution_count": 31,
   "metadata": {},
   "outputs": [
    {
     "data": {
      "text/plain": [
       "[<matplotlib.lines.Line2D at 0x7f8d8cc2d6a0>]"
      ]
     },
     "execution_count": 31,
     "metadata": {},
     "output_type": "execute_result"
    },
    {
     "data": {
      "image/png": "[encoded data removed]",
      "text/plain": [
       "<Figure size 432x288 with 1 Axes>"
      ]
     },
     "metadata": {
      "needs_background": "light"
     },
     "output_type": "display_data"
    }
   ],
   "source": [
    "plt.plot(np.sum(pdf[:,:],axis=0))"
   ]
  },
  {
   "cell_type": "code",
   "execution_count": 32,
   "metadata": {},
   "outputs": [],
   "source": [
    "from scipy import integrate\n",
    "avg_pdf = []\n",
    "for i in range(len(pdf_pred)):\n",
    "    avg_pdf.append(integrate.simps(z[i]*pdf[i,:]))"
   ]
  },
  {
   "cell_type": "code",
   "execution_count": 33,
   "metadata": {},
   "outputs": [
    {
     "data": {
      "text/plain": [
       "<matplotlib.collections.PathCollection at 0x7f8d8cbedfd0>"
      ]
     },
     "execution_count": 33,
     "metadata": {},
     "output_type": "execute_result"
    },
    {
     "data": {
      "image/png": "[encoded data removed]",
      "text/plain": [
       "<Figure size 432x288 with 1 Axes>"
      ]
     },
     "metadata": {
      "needs_background": "light"
     },
     "output_type": "display_data"
    }
   ],
   "source": [
    "plt.scatter(y_test[:,100],avg_pdf)"
   ]
  },
  {
   "cell_type": "code",
   "execution_count": 34,
   "metadata": {},
   "outputs": [
    {
     "name": "stdout",
     "output_type": "stream",
     "text": [
      "MAE: 0.24777146353670249\n",
      "MSE: 0.0942232096296384\n",
      "RMSE: 0.30695799326559065\n"
     ]
    }
   ],
   "source": [
    "print('MAE:', metrics.mean_absolute_error(y_test[:,100], avg_pdf))\n",
    "print('MSE:', metrics.mean_squared_error(y_test[:,100], avg_pdf))\n",
    "print('RMSE:', np.sqrt(metrics.mean_squared_error(y_test[:,100], avg_pdf)))"
   ]
  }
 ],
 "metadata": {
  "kernelspec": {
   "display_name": "Python 3",
   "language": "python",
   "name": "python3"
  },
  "language_info": {
   "codemirror_mode": {
    "name": "ipython",
    "version": 3
   },
   "file_extension": ".py",
   "mimetype": "text/x-python",
   "name": "python",
   "nbconvert_exporter": "python",
   "pygments_lexer": "ipython3",
   "version": "3.8.5"
  }
 },
 "nbformat": 4,
 "nbformat_minor": 4
}
