{
 "cells": [
  {
   "cell_type": "markdown",
   "metadata": {},
   "source": [
    "# Tutorial"
   ]
  },
  {
   "cell_type": "markdown",
   "metadata": {},
   "source": [
    "## Import The Libs"
   ]
  },
  {
   "cell_type": "code",
   "execution_count": 1,
   "metadata": {},
   "outputs": [],
   "source": [
    "## Import libs\n",
    "import numpy as np\n",
    "import pandas as pd\n",
    "import sys\n",
    "import matplotlib.pyplot as plt\n",
    "import seaborn as sns\n",
    "sys.path.insert(1, 'modules/')\n",
    "\n",
    "import data_processing as dp\n",
    "from Regression import Regression\n",
    "\n",
    "from sklearn.preprocessing import StandardScaler\n",
    "std = StandardScaler()\n",
    "std1 = StandardScaler()"
   ]
  },
  {
   "cell_type": "markdown",
   "metadata": {},
   "source": [
    "## Read the Data and preprocessing"
   ]
  },
  {
   "cell_type": "code",
   "execution_count": null,
   "metadata": {},
   "outputs": [],
   "source": [
    "data = pd.read_csv('datasets/USA_Housing.csv')\n",
    "X = data[['Avg. Area Income', 'Avg. Area House Age', 'Avg. Area Number of Rooms',\n",
    "               'Avg. Area Number of Bedrooms', 'Area Population']].values\n",
    "X = std.fit_transform(X)\n",
    "\n",
    "y = data['Price'].values\n",
    "y = std1.fit_transform(y.reshape(-1,1))\n",
    "y = dp.discritizer_target(y)\n"
   ]
  },
  {
   "cell_type": "markdown",
   "metadata": {},
   "source": [
    "## Choose the Machine Learning Algorithims."
   ]
  },
  {
   "cell_type": "code",
   "execution_count": 2,
   "metadata": {},
   "outputs": [],
   "source": [
    "\n",
    "MLM = [\n",
    "    'DecisionTreeClassifier()',\n",
    "    'KNeighborsClassifier()',\n",
    "    'DecisionTreeRegressor()',\n",
    "    'RandomForestRegressor()'\n",
    "\n",
    "]\n",
    "\n",
    "# choose grid parameters\n",
    "grid = {\n",
    "    'DecisionTreeClassifier()': [\n",
    "        {'criterion': ['gini','entropy'], 'splitter': ['random', 'best'], 'max_features':['auto', 'sqrt', 'log2']}],\n",
    "    'KNeighborsClassifier()': [\n",
    "        {'n_neighbors': [3, 4, 5], 'metric': ['minkowski']}],\n",
    "     'DecisionTreeRegressor()': [\n",
    "        {'criterion': ['mse', 'friedman_mse'], 'splitter': ['random', 'best'], 'max_features':['auto', 'sqrt', 'log2']}],     \n",
    "    'RandomForestRegressor()' : [{\"n_estimators\": list(range(100,500,100)) , \"max_depth\": list(range(2,20,10)) }],\n",
    "}\n"
   ]
  },
  {
   "cell_type": "code",
   "execution_count": 3,
   "metadata": {},
   "outputs": [],
   "source": [
    "grid_searcher = Regression(MLM, grid)\n",
    "\n",
    "X_train,X_test,y_train,y_test = dp.tts_split(X,y,0.3,5)\n",
    "\n"
   ]
  },
  {
   "cell_type": "code",
   "execution_count": 4,
   "metadata": {},
   "outputs": [
    {
     "name": "stdout",
     "output_type": "stream",
     "text": [
      "Executing grid search for DecisionTreeRegressor().\n",
      "Fitting 5 folds for each of 12 candidates, totalling 60 fits\n"
     ]
    },
    {
     "name": "stderr",
     "output_type": "stream",
     "text": [
      "[Parallel(n_jobs=-1)]: Using backend LokyBackend with 4 concurrent workers.\n",
      "[Parallel(n_jobs=-1)]: Done  60 out of  60 | elapsed:    1.3s finished\n",
      "[Parallel(n_jobs=-1)]: Using backend LokyBackend with 4 concurrent workers.\n"
     ]
    },
    {
     "name": "stdout",
     "output_type": "stream",
     "text": [
      "Elapsed time: 1.332s\n",
      "Executing grid search for RandomForestRegressor().\n",
      "Fitting 5 folds for each of 8 candidates, totalling 40 fits\n"
     ]
    },
    {
     "name": "stderr",
     "output_type": "stream",
     "text": [
      "[Parallel(n_jobs=-1)]: Done  40 out of  40 | elapsed:   30.9s finished\n"
     ]
    },
    {
     "name": "stdout",
     "output_type": "stream",
     "text": [
      "Elapsed time: 32.261s\n"
     ]
    }
   ],
   "source": [
    "grid_searcher.apply_grid_search(X_train, y_train[:,100], k=5)\n"
   ]
  },
  {
   "cell_type": "code",
   "execution_count": 5,
   "metadata": {},
   "outputs": [
    {
     "name": "stdout",
     "output_type": "stream",
     "text": [
      "Executing grid search for DecisionTreeClassifier().\n",
      "Fitting 5 folds for each of 12 candidates, totalling 60 fits\n"
     ]
    },
    {
     "name": "stderr",
     "output_type": "stream",
     "text": [
      "[Parallel(n_jobs=-1)]: Using backend LokyBackend with 4 concurrent workers.\n",
      "[Parallel(n_jobs=-1)]: Done  60 out of  60 | elapsed:    4.0s finished\n"
     ]
    },
    {
     "name": "stdout",
     "output_type": "stream",
     "text": [
      "Elapsed time: 4.523s\n",
      "Executing grid search for KNeighborsClassifier().\n",
      "Fitting 5 folds for each of 3 candidates, totalling 15 fits\n"
     ]
    },
    {
     "name": "stderr",
     "output_type": "stream",
     "text": [
      "[Parallel(n_jobs=-1)]: Using backend LokyBackend with 4 concurrent workers.\n"
     ]
    },
    {
     "name": "stdout",
     "output_type": "stream",
     "text": [
      "Elapsed time: 21.892s\n"
     ]
    },
    {
     "name": "stderr",
     "output_type": "stream",
     "text": [
      "[Parallel(n_jobs=-1)]: Done  15 out of  15 | elapsed:   21.7s finished\n"
     ]
    }
   ],
   "source": [
    "grid_searcher.apply_grid_search_pdf(X_train, y_train[:,:100])\n",
    "\n"
   ]
  },
  {
   "cell_type": "code",
   "execution_count": 6,
   "metadata": {},
   "outputs": [
    {
     "name": "stdout",
     "output_type": "stream",
     "text": [
      "                  method  mean squared error (%)  standard deviation (%)\n",
      "1  RandomForestRegressor                0.538258                0.001400\n",
      "0  DecisionTreeRegressor                0.391055                0.008806\n"
     ]
    }
   ],
   "source": [
    "grid_searcher.show_dataframe_reg()\n"
   ]
  },
  {
   "cell_type": "code",
   "execution_count": 7,
   "metadata": {},
   "outputs": [
    {
     "name": "stdout",
     "output_type": "stream",
     "text": [
      "                   method  mean accuracy (%)  standard deviation (%)\n",
      "0  DecisionTreeClassifier           0.050000                0.008806\n",
      "1    KNeighborsClassifier           0.007429                0.001400\n"
     ]
    }
   ],
   "source": [
    "grid_searcher.show_dataframe_pdf()"
   ]
  },
  {
   "cell_type": "code",
   "execution_count": 8,
   "metadata": {},
   "outputs": [
    {
     "name": "stdout",
     "output_type": "stream",
     "text": [
      "DecisionTreeClassifier {'criterion': 'entropy', 'max_features': 'auto', 'splitter': 'best'}\n",
      "KNeighborsClassifier {'metric': 'minkowski', 'n_neighbors': 3}\n",
      "DecisionTreeRegressor {'criterion': 'friedman_mse', 'max_features': 'sqrt', 'splitter': 'random'}\n",
      "RandomForestRegressor {'max_depth': 2, 'n_estimators': 400}\n"
     ]
    }
   ],
   "source": [
    "grid_searcher.show_best_parameters()"
   ]
  },
  {
   "cell_type": "markdown",
   "metadata": {},
   "source": [
    "## Evaluation"
   ]
  },
  {
   "cell_type": "code",
   "execution_count": 9,
   "metadata": {},
   "outputs": [
    {
     "name": "stderr",
     "output_type": "stream",
     "text": [
      "/home/rafael/.local/lib/python3.8/site-packages/sklearn/utils/validation.py:68: FutureWarning: Pass criterion=mse as keyword args. From version 0.25 passing these as positional arguments will result in an error\n",
      "  warnings.warn(\"Pass {} as keyword args. From version 0.25 \"\n"
     ]
    },
    {
     "data": {
      "text/plain": [
       "DecisionTreeClassifier(criterion='entropy', max_features='auto')"
      ]
     },
     "execution_count": 9,
     "metadata": {},
     "output_type": "execute_result"
    }
   ],
   "source": [
    "from sklearn.tree import DecisionTreeRegressor,DecisionTreeClassifier\n",
    "model = DecisionTreeRegressor('mse',splitter='random',max_features = 'log2')\n",
    "pdf = DecisionTreeClassifier( **{'criterion': 'entropy', 'max_features': 'auto', 'splitter': 'best'})\n",
    "model.fit(X_train, y_train[:,100])\n",
    "pdf.fit(X_train,y_train[:,:100])"
   ]
  },
  {
   "cell_type": "code",
   "execution_count": 10,
   "metadata": {},
   "outputs": [],
   "source": [
    "pdf_pred = pdf.predict(X_test)\n",
    "predictions = model.predict(X_test)"
   ]
  },
  {
   "cell_type": "code",
   "execution_count": 11,
   "metadata": {},
   "outputs": [],
   "source": [
    "a =np.sum(pdf_pred[:,:],axis=0)"
   ]
  },
  {
   "cell_type": "code",
   "execution_count": 12,
   "metadata": {},
   "outputs": [
    {
     "data": {
      "text/plain": [
       "[<matplotlib.lines.Line2D at 0x7f823e73a7f0>]"
      ]
     },
     "execution_count": 12,
     "metadata": {},
     "output_type": "execute_result"
    },
    {
     "data": {
      "image/png": "[encoded data removed]",
      "text/plain": [
       "<Figure size 432x288 with 1 Axes>"
      ]
     },
     "metadata": {
      "needs_background": "light"
     },
     "output_type": "display_data"
    }
   ],
   "source": [
    "plt.plot(np.sum(pdf_pred[:,:],axis=0))"
   ]
  },
  {
   "cell_type": "code",
   "execution_count": 13,
   "metadata": {},
   "outputs": [
    {
     "data": {
      "text/plain": [
       "(<matplotlib.collections.PathCollection at 0x7f823e67cb50>,)"
      ]
     },
     "execution_count": 13,
     "metadata": {},
     "output_type": "execute_result"
    },
    {
     "data": {
      "image/png": "[encoded data removed]",
      "text/plain": [
       "<Figure size 432x288 with 1 Axes>"
      ]
     },
     "metadata": {
      "needs_background": "light"
     },
     "output_type": "display_data"
    }
   ],
   "source": [
    "plt.scatter(y_test[:,100],predictions),"
   ]
  },
  {
   "cell_type": "code",
   "execution_count": 14,
   "metadata": {},
   "outputs": [
    {
     "name": "stdout",
     "output_type": "stream",
     "text": [
      "MAE: 0.4930071809826262\n",
      "MSE: 0.39282861742080605\n",
      "RMSE: 0.6267604146887438\n"
     ]
    }
   ],
   "source": [
    "from sklearn import metrics\n",
    "\n",
    "print('MAE:', metrics.mean_absolute_error(y_test[:,100], predictions))\n",
    "print('MSE:', metrics.mean_squared_error(y_test[:,100], predictions))\n",
    "print('RMSE:', np.sqrt(metrics.mean_squared_error(y_test[:,100], predictions)))"
   ]
  },
  {
   "cell_type": "markdown",
   "metadata": {},
   "source": [
    "## Extract Infomation from the PDF"
   ]
  },
  {
   "cell_type": "markdown",
   "metadata": {},
   "source": [
    "We can extract a single-value solution using the **PDF's**, using\n",
    "$$x_{mean} = \\int x_{pred} * PDF(x)dx $$"
   ]
  },
  {
   "cell_type": "code",
   "execution_count": 30,
   "metadata": {},
   "outputs": [],
   "source": [
    "x = np.linspace(predictions.min(),predictions.max(),100)"
   ]
  },
  {
   "cell_type": "code",
   "execution_count": 31,
   "metadata": {},
   "outputs": [
    {
     "data": {
      "text/plain": [
       "(1500, 100)"
      ]
     },
     "execution_count": 31,
     "metadata": {},
     "output_type": "execute_result"
    }
   ],
   "source": [
    "pdf_pred.shape"
   ]
  },
  {
   "cell_type": "code",
   "execution_count": 32,
   "metadata": {},
   "outputs": [],
   "source": [
    "from scipy import integrate\n",
    "avg_pdf = []\n",
    "for i in range(len(pdf_pred)):\n",
    "    avg_pdf.append(integrate.simps(predictions[i]*pdf_pred[i,:]))"
   ]
  },
  {
   "cell_type": "code",
   "execution_count": 33,
   "metadata": {},
   "outputs": [
    {
     "data": {
      "text/plain": [
       "<matplotlib.collections.PathCollection at 0x7f8215b95bb0>"
      ]
     },
     "execution_count": 33,
     "metadata": {},
     "output_type": "execute_result"
    },
    {
     "data": {
      "image/png": "[encoded data removed]",
      "text/plain": [
       "<Figure size 432x288 with 1 Axes>"
      ]
     },
     "metadata": {
      "needs_background": "light"
     },
     "output_type": "display_data"
    }
   ],
   "source": [
    "plt.scatter(y_test[:,100],avg_pdf)"
   ]
  },
  {
   "cell_type": "code",
   "execution_count": 34,
   "metadata": {},
   "outputs": [
    {
     "name": "stdout",
     "output_type": "stream",
     "text": [
      "MAE: 0.49380303120241237\n",
      "MSE: 0.39538997335358106\n",
      "RMSE: 0.6288004241041676\n"
     ]
    }
   ],
   "source": [
    "print('MAE:', metrics.mean_absolute_error(y_test[:,100], avg_pdf))\n",
    "print('MSE:', metrics.mean_squared_error(y_test[:,100], avg_pdf))\n",
    "print('RMSE:', np.sqrt(metrics.mean_squared_error(y_test[:,100], avg_pdf)))"
   ]
  },
  {
   "cell_type": "markdown",
   "metadata": {},
   "source": [
    "# Neural Network"
   ]
  },
  {
   "cell_type": "markdown",
   "metadata": {},
   "source": [
    "We have done the hypertunig using the file NNRegression.py. We can read the statistics of the best model and then implements the code."
   ]
  },
  {
   "cell_type": "code",
   "execution_count": 40,
   "metadata": {},
   "outputs": [],
   "source": [
    "# Neural Network Libs\n",
    "\n",
    "import keras\n",
    "import tensorflow as tf\n",
    "from tensorflow.keras.models import Sequential\n",
    "from tensorflow.keras.layers import Dense, Flatten, Dropout, Conv2D, MaxPooling2D, BatchNormalization, Activation\n",
    "from tensorflow.keras.callbacks import ModelCheckpoint, EarlyStopping\n",
    "from tensorflow.keras.optimizers import Adam\n",
    "from keras import backend as K\n",
    "from sklearn.metrics import confusion_matrix\n",
    "import keras as ks\n",
    "from tensorflow.keras.constraints import max_norm\n",
    "from tensorflow.keras import layers\n",
    "from tensorflow.keras import regularizers"
   ]
  },
  {
   "cell_type": "code",
   "execution_count": 35,
   "metadata": {},
   "outputs": [],
   "source": [
    "stats = pd.read_csv(\"statistics.csv\")"
   ]
  },
  {
   "cell_type": "code",
   "execution_count": 38,
   "metadata": {},
   "outputs": [
    {
     "data": {
      "text/html": [
       "<div>\n",
       "<style scoped>\n",
       "    .dataframe tbody tr th:only-of-type {\n",
       "        vertical-align: middle;\n",
       "    }\n",
       "\n",
       "    .dataframe tbody tr th {\n",
       "        vertical-align: top;\n",
       "    }\n",
       "\n",
       "    .dataframe thead th {\n",
       "        text-align: right;\n",
       "    }\n",
       "</style>\n",
       "<table border=\"1\" class=\"dataframe\">\n",
       "  <thead>\n",
       "    <tr style=\"text-align: right;\">\n",
       "      <th></th>\n",
       "      <th>start</th>\n",
       "      <th>end</th>\n",
       "      <th>duration</th>\n",
       "      <th>round_epochs</th>\n",
       "      <th>loss</th>\n",
       "      <th>pdf_loss</th>\n",
       "      <th>reg_loss</th>\n",
       "      <th>pdf_acc</th>\n",
       "      <th>reg_mse</th>\n",
       "      <th>val_loss</th>\n",
       "      <th>val_pdf_loss</th>\n",
       "      <th>val_reg_loss</th>\n",
       "      <th>val_pdf_acc</th>\n",
       "      <th>val_reg_mse</th>\n",
       "      <th>activation</th>\n",
       "      <th>batch_size</th>\n",
       "      <th>compile</th>\n",
       "      <th>first_layer</th>\n",
       "      <th>second_layer</th>\n",
       "      <th>third_layer</th>\n",
       "    </tr>\n",
       "  </thead>\n",
       "  <tbody>\n",
       "    <tr>\n",
       "      <th>4</th>\n",
       "      <td>06/15/21-141601</td>\n",
       "      <td>06/15/21-141619</td>\n",
       "      <td>17.846273</td>\n",
       "      <td>150</td>\n",
       "      <td>3.498394</td>\n",
       "      <td>3.859629</td>\n",
       "      <td>0.247274</td>\n",
       "      <td>0.056071</td>\n",
       "      <td>0.096160</td>\n",
       "      <td>3.896734</td>\n",
       "      <td>4.299534</td>\n",
       "      <td>0.271524</td>\n",
       "      <td>0.025714</td>\n",
       "      <td>0.114711</td>\n",
       "      <td>relu</td>\n",
       "      <td>32</td>\n",
       "      <td>adam</td>\n",
       "      <td>30</td>\n",
       "      <td>10</td>\n",
       "      <td>10</td>\n",
       "    </tr>\n",
       "    <tr>\n",
       "      <th>2</th>\n",
       "      <td>06/15/21-141523</td>\n",
       "      <td>06/15/21-141541</td>\n",
       "      <td>18.023037</td>\n",
       "      <td>150</td>\n",
       "      <td>3.527492</td>\n",
       "      <td>3.891674</td>\n",
       "      <td>0.249854</td>\n",
       "      <td>0.050000</td>\n",
       "      <td>0.097029</td>\n",
       "      <td>3.976317</td>\n",
       "      <td>4.388830</td>\n",
       "      <td>0.263702</td>\n",
       "      <td>0.042857</td>\n",
       "      <td>0.110710</td>\n",
       "      <td>relu</td>\n",
       "      <td>32</td>\n",
       "      <td>adam</td>\n",
       "      <td>20</td>\n",
       "      <td>10</td>\n",
       "      <td>10</td>\n",
       "    </tr>\n",
       "    <tr>\n",
       "      <th>1</th>\n",
       "      <td>06/15/21-141504</td>\n",
       "      <td>06/15/21-141523</td>\n",
       "      <td>19.123019</td>\n",
       "      <td>150</td>\n",
       "      <td>3.502400</td>\n",
       "      <td>3.863735</td>\n",
       "      <td>0.250391</td>\n",
       "      <td>0.060714</td>\n",
       "      <td>0.098150</td>\n",
       "      <td>3.952953</td>\n",
       "      <td>4.361624</td>\n",
       "      <td>0.274922</td>\n",
       "      <td>0.022857</td>\n",
       "      <td>0.119810</td>\n",
       "      <td>relu</td>\n",
       "      <td>32</td>\n",
       "      <td>adam</td>\n",
       "      <td>10</td>\n",
       "      <td>20</td>\n",
       "      <td>10</td>\n",
       "    </tr>\n",
       "    <tr>\n",
       "      <th>3</th>\n",
       "      <td>06/15/21-141541</td>\n",
       "      <td>06/15/21-141601</td>\n",
       "      <td>19.636926</td>\n",
       "      <td>150</td>\n",
       "      <td>3.487379</td>\n",
       "      <td>3.846105</td>\n",
       "      <td>0.258854</td>\n",
       "      <td>0.062143</td>\n",
       "      <td>0.105919</td>\n",
       "      <td>3.928025</td>\n",
       "      <td>4.333198</td>\n",
       "      <td>0.281466</td>\n",
       "      <td>0.037143</td>\n",
       "      <td>0.125224</td>\n",
       "      <td>relu</td>\n",
       "      <td>32</td>\n",
       "      <td>adam</td>\n",
       "      <td>20</td>\n",
       "      <td>20</td>\n",
       "      <td>10</td>\n",
       "    </tr>\n",
       "    <tr>\n",
       "      <th>0</th>\n",
       "      <td>06/15/21-141442</td>\n",
       "      <td>06/15/21-141504</td>\n",
       "      <td>22.104913</td>\n",
       "      <td>150</td>\n",
       "      <td>3.536479</td>\n",
       "      <td>3.900009</td>\n",
       "      <td>0.264700</td>\n",
       "      <td>0.053929</td>\n",
       "      <td>0.108672</td>\n",
       "      <td>3.928832</td>\n",
       "      <td>4.335188</td>\n",
       "      <td>0.271621</td>\n",
       "      <td>0.022857</td>\n",
       "      <td>0.117575</td>\n",
       "      <td>relu</td>\n",
       "      <td>32</td>\n",
       "      <td>adam</td>\n",
       "      <td>10</td>\n",
       "      <td>10</td>\n",
       "      <td>10</td>\n",
       "    </tr>\n",
       "  </tbody>\n",
       "</table>\n",
       "</div>"
      ],
      "text/plain": [
       "             start              end   duration  round_epochs      loss  \\\n",
       "4  06/15/21-141601  06/15/21-141619  17.846273           150  3.498394   \n",
       "2  06/15/21-141523  06/15/21-141541  18.023037           150  3.527492   \n",
       "1  06/15/21-141504  06/15/21-141523  19.123019           150  3.502400   \n",
       "3  06/15/21-141541  06/15/21-141601  19.636926           150  3.487379   \n",
       "0  06/15/21-141442  06/15/21-141504  22.104913           150  3.536479   \n",
       "\n",
       "   pdf_loss  reg_loss   pdf_acc   reg_mse  val_loss  val_pdf_loss  \\\n",
       "4  3.859629  0.247274  0.056071  0.096160  3.896734      4.299534   \n",
       "2  3.891674  0.249854  0.050000  0.097029  3.976317      4.388830   \n",
       "1  3.863735  0.250391  0.060714  0.098150  3.952953      4.361624   \n",
       "3  3.846105  0.258854  0.062143  0.105919  3.928025      4.333198   \n",
       "0  3.900009  0.264700  0.053929  0.108672  3.928832      4.335188   \n",
       "\n",
       "   val_reg_loss  val_pdf_acc  val_reg_mse activation  batch_size compile  \\\n",
       "4      0.271524     0.025714     0.114711       relu          32    adam   \n",
       "2      0.263702     0.042857     0.110710       relu          32    adam   \n",
       "1      0.274922     0.022857     0.119810       relu          32    adam   \n",
       "3      0.281466     0.037143     0.125224       relu          32    adam   \n",
       "0      0.271621     0.022857     0.117575       relu          32    adam   \n",
       "\n",
       "   first_layer  second_layer  third_layer  \n",
       "4           30            10           10  \n",
       "2           20            10           10  \n",
       "1           10            20           10  \n",
       "3           20            20           10  \n",
       "0           10            10           10  "
      ]
     },
     "execution_count": 38,
     "metadata": {},
     "output_type": "execute_result"
    }
   ],
   "source": [
    "stats.head().sort_values(\"reg_mse\")"
   ]
  },
  {
   "cell_type": "code",
   "execution_count": 41,
   "metadata": {},
   "outputs": [],
   "source": [
    "EarlyStop = EarlyStopping(monitor='reg_mse', mode='min', patience=10)\n",
    "BATCH_SIZE = 64\n",
    "STEPS_PER_EPOCH = len(data)//BATCH_SIZE\n",
    "lr_schedule = tf.keras.optimizers.schedules.InverseTimeDecay(\n",
    "        0.0001,\n",
    "        decay_steps=STEPS_PER_EPOCH*1000,\n",
    "        decay_rate=1,\n",
    "        staircase=False)"
   ]
  },
  {
   "cell_type": "code",
   "execution_count": 43,
   "metadata": {},
   "outputs": [],
   "source": [
    "inputs = keras.layers.Input(5)\n",
    "x = BatchNormalization()(inputs)\n",
    "x = Dense(30, kernel_initializer='normal',  kernel_constraint=max_norm(2.) ,activation='relu',kernel_regularizer=regularizers.l1_l2(l1=1e-5, l2=1e-4),\n",
    "                              bias_regularizer=regularizers.l2(1e-4),activity_regularizer=regularizers.l2(1e-5)) (x)\n",
    "x = BatchNormalization()(x)\n",
    "x = Dense(10, kernel_initializer='normal',  kernel_constraint=max_norm(2.) ,activation='relu',kernel_regularizer=regularizers.l1_l2(l1=1e-5, l2=1e-4),\n",
    "                              bias_regularizer=regularizers.l2(1e-4),activity_regularizer=regularizers.l2(1e-5)) (x)\n",
    "x = BatchNormalization()(x)\n",
    "x = Dense(10, kernel_initializer='normal',  kernel_constraint=max_norm(2.) ,activation='relu',kernel_regularizer=regularizers.l1_l2(l1=1e-5, l2=1e-4),\n",
    "                              bias_regularizer=regularizers.l2(1e-4),activity_regularizer=regularizers.l2(1e-5)) (x)\n",
    "output1 = Dense(1,activation = \"linear\",name = \"reg\") (x)\n",
    "output2 = Dense(100,activation = \"softmax\",name =\"pdf\")(x) # using the numbers of bins\n",
    "model = keras.Model(inputs=inputs, outputs=[output1,output2], name=\"rafael\")"
   ]
  },
  {
   "cell_type": "code",
   "execution_count": 44,
   "metadata": {},
   "outputs": [],
   "source": [
    "model.compile(\n",
    "    loss={'reg': 'mean_absolute_error', \n",
    "                    'pdf': keras.losses.CategoricalCrossentropy()},loss_weights=[0.1,0.9],\n",
    "              optimizer=ks.optimizers.Adam(lr_schedule),\n",
    "              metrics={'pdf': \"acc\",\n",
    "                      'reg': \"mse\"})"
   ]
  },
  {
   "cell_type": "code",
   "execution_count": 47,
   "metadata": {
    "collapsed": true,
    "jupyter": {
     "outputs_hidden": true
    },
    "tags": []
   },
   "outputs": [
    {
     "name": "stdout",
     "output_type": "stream",
     "text": [
      "Epoch 1/128\n",
      "88/88 [==============================] - 0s 4ms/step - loss: 3.6358 - reg_loss: 0.5406 - pdf_loss: 3.9790 - reg_mse: 0.4191 - pdf_acc: 0.0489 - val_loss: 3.5828 - val_reg_loss: 0.5086 - val_pdf_loss: 3.9236 - val_reg_mse: 0.3616 - val_pdf_acc: 0.0586\n",
      "Epoch 2/128\n",
      "88/88 [==============================] - 0s 3ms/step - loss: 3.6002 - reg_loss: 0.5458 - pdf_loss: 3.9388 - reg_mse: 0.4329 - pdf_acc: 0.0525 - val_loss: 3.5411 - val_reg_loss: 0.5037 - val_pdf_loss: 3.8779 - val_reg_mse: 0.3558 - val_pdf_acc: 0.0614\n",
      "Epoch 3/128\n",
      "88/88 [==============================] - 0s 4ms/step - loss: 3.5610 - reg_loss: 0.5343 - pdf_loss: 3.8965 - reg_mse: 0.4122 - pdf_acc: 0.0521 - val_loss: 3.4981 - val_reg_loss: 0.4910 - val_pdf_loss: 3.8314 - val_reg_mse: 0.3403 - val_pdf_acc: 0.0643\n",
      "Epoch 4/128\n",
      "88/88 [==============================] - 0s 3ms/step - loss: 3.5277 - reg_loss: 0.5234 - pdf_loss: 3.8607 - reg_mse: 0.4056 - pdf_acc: 0.0536 - val_loss: 3.4618 - val_reg_loss: 0.4744 - val_pdf_loss: 3.7929 - val_reg_mse: 0.3219 - val_pdf_acc: 0.0614\n",
      "Epoch 5/128\n",
      "88/88 [==============================] - 0s 4ms/step - loss: 3.4857 - reg_loss: 0.5106 - pdf_loss: 3.8154 - reg_mse: 0.3782 - pdf_acc: 0.0475 - val_loss: 3.4232 - val_reg_loss: 0.4601 - val_pdf_loss: 3.7516 - val_reg_mse: 0.3056 - val_pdf_acc: 0.0686\n",
      "Epoch 6/128\n",
      "88/88 [==============================] - 0s 4ms/step - loss: 3.4529 - reg_loss: 0.5014 - pdf_loss: 3.7800 - reg_mse: 0.3717 - pdf_acc: 0.0596 - val_loss: 3.3875 - val_reg_loss: 0.4458 - val_pdf_loss: 3.7135 - val_reg_mse: 0.2888 - val_pdf_acc: 0.0714\n",
      "Epoch 7/128\n",
      "88/88 [==============================] - 0s 3ms/step - loss: 3.4222 - reg_loss: 0.4927 - pdf_loss: 3.7468 - reg_mse: 0.3620 - pdf_acc: 0.0586 - val_loss: 3.3549 - val_reg_loss: 0.4319 - val_pdf_loss: 3.6787 - val_reg_mse: 0.2718 - val_pdf_acc: 0.0714\n",
      "Epoch 8/128\n",
      "88/88 [==============================] - 0s 4ms/step - loss: 3.3918 - reg_loss: 0.4720 - pdf_loss: 3.7152 - reg_mse: 0.3351 - pdf_acc: 0.0589 - val_loss: 3.3232 - val_reg_loss: 0.4176 - val_pdf_loss: 3.6451 - val_reg_mse: 0.2574 - val_pdf_acc: 0.0729\n",
      "Epoch 9/128\n",
      "88/88 [==============================] - 0s 4ms/step - loss: 3.3626 - reg_loss: 0.4610 - pdf_loss: 3.6840 - reg_mse: 0.3242 - pdf_acc: 0.0571 - val_loss: 3.2908 - val_reg_loss: 0.4038 - val_pdf_loss: 3.6106 - val_reg_mse: 0.2445 - val_pdf_acc: 0.0757\n",
      "Epoch 10/128\n",
      "88/88 [==============================] - 0s 4ms/step - loss: 3.3401 - reg_loss: 0.4505 - pdf_loss: 3.6602 - reg_mse: 0.3093 - pdf_acc: 0.0621 - val_loss: 3.2611 - val_reg_loss: 0.3872 - val_pdf_loss: 3.5794 - val_reg_mse: 0.2271 - val_pdf_acc: 0.0757\n",
      "Epoch 11/128\n",
      "88/88 [==============================] - 0s 5ms/step - loss: 3.3122 - reg_loss: 0.4396 - pdf_loss: 3.6304 - reg_mse: 0.2974 - pdf_acc: 0.0607 - val_loss: 3.2341 - val_reg_loss: 0.3730 - val_pdf_loss: 3.5509 - val_reg_mse: 0.2154 - val_pdf_acc: 0.0714\n",
      "Epoch 12/128\n",
      "88/88 [==============================] - 0s 3ms/step - loss: 3.2795 - reg_loss: 0.4262 - pdf_loss: 3.5954 - reg_mse: 0.2830 - pdf_acc: 0.0661 - val_loss: 3.2079 - val_reg_loss: 0.3638 - val_pdf_loss: 3.5229 - val_reg_mse: 0.2081 - val_pdf_acc: 0.0700\n",
      "Epoch 13/128\n",
      "88/88 [==============================] - 0s 4ms/step - loss: 3.2664 - reg_loss: 0.4190 - pdf_loss: 3.5817 - reg_mse: 0.2748 - pdf_acc: 0.0586 - val_loss: 3.1811 - val_reg_loss: 0.3536 - val_pdf_loss: 3.4942 - val_reg_mse: 0.1985 - val_pdf_acc: 0.0614\n",
      "Epoch 14/128\n",
      "88/88 [==============================] - 0s 5ms/step - loss: 3.2421 - reg_loss: 0.4123 - pdf_loss: 3.5554 - reg_mse: 0.2699 - pdf_acc: 0.0568 - val_loss: 3.1596 - val_reg_loss: 0.3430 - val_pdf_loss: 3.4715 - val_reg_mse: 0.1902 - val_pdf_acc: 0.0514\n",
      "Epoch 15/128\n",
      "88/88 [==============================] - 1s 6ms/step - loss: 3.2133 - reg_loss: 0.3962 - pdf_loss: 3.5252 - reg_mse: 0.2502 - pdf_acc: 0.0586 - val_loss: 3.1378 - val_reg_loss: 0.3355 - val_pdf_loss: 3.4480 - val_reg_mse: 0.1825 - val_pdf_acc: 0.0557\n",
      "Epoch 16/128\n",
      "88/88 [==============================] - 0s 5ms/step - loss: 3.1900 - reg_loss: 0.3864 - pdf_loss: 3.5004 - reg_mse: 0.2427 - pdf_acc: 0.0586 - val_loss: 3.1195 - val_reg_loss: 0.3308 - val_pdf_loss: 3.4282 - val_reg_mse: 0.1803 - val_pdf_acc: 0.0529\n",
      "Epoch 17/128\n",
      "88/88 [==============================] - 0s 5ms/step - loss: 3.1837 - reg_loss: 0.3905 - pdf_loss: 3.4929 - reg_mse: 0.2466 - pdf_acc: 0.0532 - val_loss: 3.1002 - val_reg_loss: 0.3244 - val_pdf_loss: 3.4075 - val_reg_mse: 0.1734 - val_pdf_acc: 0.0543\n",
      "Epoch 18/128\n",
      "88/88 [==============================] - 0s 4ms/step - loss: 3.1625 - reg_loss: 0.3795 - pdf_loss: 3.4706 - reg_mse: 0.2377 - pdf_acc: 0.0571 - val_loss: 3.0841 - val_reg_loss: 0.3213 - val_pdf_loss: 3.3899 - val_reg_mse: 0.1711 - val_pdf_acc: 0.0557\n",
      "Epoch 19/128\n",
      "88/88 [==============================] - 0s 5ms/step - loss: 3.1420 - reg_loss: 0.3745 - pdf_loss: 3.4483 - reg_mse: 0.2301 - pdf_acc: 0.0646 - val_loss: 3.0651 - val_reg_loss: 0.3183 - val_pdf_loss: 3.3690 - val_reg_mse: 0.1677 - val_pdf_acc: 0.0543\n",
      "Epoch 20/128\n",
      "88/88 [==============================] - 0s 3ms/step - loss: 3.1386 - reg_loss: 0.3750 - pdf_loss: 3.4444 - reg_mse: 0.2310 - pdf_acc: 0.0564 - val_loss: 3.0512 - val_reg_loss: 0.3146 - val_pdf_loss: 3.3541 - val_reg_mse: 0.1631 - val_pdf_acc: 0.0571\n",
      "Epoch 21/128\n",
      "88/88 [==============================] - 0s 5ms/step - loss: 3.1313 - reg_loss: 0.3733 - pdf_loss: 3.4365 - reg_mse: 0.2265 - pdf_acc: 0.0550 - val_loss: 3.0378 - val_reg_loss: 0.3112 - val_pdf_loss: 3.3394 - val_reg_mse: 0.1592 - val_pdf_acc: 0.0557\n",
      "Epoch 22/128\n",
      "88/88 [==============================] - 0s 5ms/step - loss: 3.1148 - reg_loss: 0.3711 - pdf_loss: 3.4183 - reg_mse: 0.2262 - pdf_acc: 0.0618 - val_loss: 3.0260 - val_reg_loss: 0.3090 - val_pdf_loss: 3.3266 - val_reg_mse: 0.1567 - val_pdf_acc: 0.0543\n",
      "Epoch 23/128\n",
      "88/88 [==============================] - 0s 5ms/step - loss: 3.0846 - reg_loss: 0.3539 - pdf_loss: 3.3867 - reg_mse: 0.2083 - pdf_acc: 0.0582 - val_loss: 3.0131 - val_reg_loss: 0.3075 - val_pdf_loss: 3.3124 - val_reg_mse: 0.1545 - val_pdf_acc: 0.0543\n",
      "Epoch 24/128\n",
      "88/88 [==============================] - 0s 5ms/step - loss: 3.0933 - reg_loss: 0.3564 - pdf_loss: 3.3960 - reg_mse: 0.2108 - pdf_acc: 0.0604 - val_loss: 3.0006 - val_reg_loss: 0.3066 - val_pdf_loss: 3.2986 - val_reg_mse: 0.1536 - val_pdf_acc: 0.0529\n",
      "Epoch 25/128\n",
      "88/88 [==============================] - 0s 4ms/step - loss: 3.0754 - reg_loss: 0.3526 - pdf_loss: 3.3766 - reg_mse: 0.2075 - pdf_acc: 0.0629 - val_loss: 2.9911 - val_reg_loss: 0.3044 - val_pdf_loss: 3.2883 - val_reg_mse: 0.1515 - val_pdf_acc: 0.0514\n",
      "Epoch 26/128\n",
      "88/88 [==============================] - 0s 4ms/step - loss: 3.0735 - reg_loss: 0.3564 - pdf_loss: 3.3740 - reg_mse: 0.2092 - pdf_acc: 0.0614 - val_loss: 2.9794 - val_reg_loss: 0.3028 - val_pdf_loss: 3.2754 - val_reg_mse: 0.1499 - val_pdf_acc: 0.0471\n",
      "Epoch 27/128\n",
      "88/88 [==============================] - 0s 5ms/step - loss: 3.0723 - reg_loss: 0.3590 - pdf_loss: 3.3724 - reg_mse: 0.2118 - pdf_acc: 0.0614 - val_loss: 2.9715 - val_reg_loss: 0.3000 - val_pdf_loss: 3.2669 - val_reg_mse: 0.1460 - val_pdf_acc: 0.0514\n",
      "Epoch 28/128\n",
      "88/88 [==============================] - 0s 6ms/step - loss: 3.0367 - reg_loss: 0.3404 - pdf_loss: 3.3348 - reg_mse: 0.1915 - pdf_acc: 0.0636 - val_loss: 2.9624 - val_reg_loss: 0.3005 - val_pdf_loss: 3.2567 - val_reg_mse: 0.1467 - val_pdf_acc: 0.0557\n",
      "Epoch 29/128\n",
      "88/88 [==============================] - 0s 5ms/step - loss: 3.0502 - reg_loss: 0.3547 - pdf_loss: 3.3482 - reg_mse: 0.2062 - pdf_acc: 0.0618 - val_loss: 2.9518 - val_reg_loss: 0.2993 - val_pdf_loss: 3.2451 - val_reg_mse: 0.1446 - val_pdf_acc: 0.0543\n",
      "Epoch 30/128\n",
      "88/88 [==============================] - 0s 5ms/step - loss: 3.0341 - reg_loss: 0.3490 - pdf_loss: 3.3310 - reg_mse: 0.1984 - pdf_acc: 0.0643 - val_loss: 2.9448 - val_reg_loss: 0.2979 - val_pdf_loss: 3.2374 - val_reg_mse: 0.1431 - val_pdf_acc: 0.0571\n",
      "Epoch 31/128\n",
      "88/88 [==============================] - 0s 4ms/step - loss: 3.0291 - reg_loss: 0.3490 - pdf_loss: 3.3255 - reg_mse: 0.2016 - pdf_acc: 0.0661 - val_loss: 2.9374 - val_reg_loss: 0.2982 - val_pdf_loss: 3.2291 - val_reg_mse: 0.1422 - val_pdf_acc: 0.0557\n",
      "Epoch 32/128\n",
      "88/88 [==============================] - 0s 4ms/step - loss: 3.0262 - reg_loss: 0.3471 - pdf_loss: 3.3224 - reg_mse: 0.1967 - pdf_acc: 0.0693 - val_loss: 2.9302 - val_reg_loss: 0.2972 - val_pdf_loss: 3.2213 - val_reg_mse: 0.1412 - val_pdf_acc: 0.0557\n",
      "Epoch 33/128\n",
      "88/88 [==============================] - 0s 5ms/step - loss: 3.0288 - reg_loss: 0.3467 - pdf_loss: 3.3253 - reg_mse: 0.1978 - pdf_acc: 0.0657 - val_loss: 2.9217 - val_reg_loss: 0.2975 - val_pdf_loss: 3.2117 - val_reg_mse: 0.1412 - val_pdf_acc: 0.0586\n",
      "Epoch 34/128\n",
      "88/88 [==============================] - 0s 5ms/step - loss: 3.0204 - reg_loss: 0.3507 - pdf_loss: 3.3155 - reg_mse: 0.2014 - pdf_acc: 0.0654 - val_loss: 2.9166 - val_reg_loss: 0.2962 - val_pdf_loss: 3.2062 - val_reg_mse: 0.1401 - val_pdf_acc: 0.0600\n",
      "Epoch 35/128\n",
      "88/88 [==============================] - 0s 4ms/step - loss: 2.9972 - reg_loss: 0.3400 - pdf_loss: 3.2909 - reg_mse: 0.1899 - pdf_acc: 0.0711 - val_loss: 2.9086 - val_reg_loss: 0.2967 - val_pdf_loss: 3.1973 - val_reg_mse: 0.1400 - val_pdf_acc: 0.0629\n",
      "Epoch 36/128\n",
      "88/88 [==============================] - 0s 4ms/step - loss: 2.9959 - reg_loss: 0.3427 - pdf_loss: 3.2891 - reg_mse: 0.1907 - pdf_acc: 0.0704 - val_loss: 2.9032 - val_reg_loss: 0.2970 - val_pdf_loss: 3.1912 - val_reg_mse: 0.1399 - val_pdf_acc: 0.0657\n",
      "Epoch 37/128\n",
      "88/88 [==============================] - 0s 4ms/step - loss: 2.9957 - reg_loss: 0.3396 - pdf_loss: 3.2892 - reg_mse: 0.1909 - pdf_acc: 0.0689 - val_loss: 2.8973 - val_reg_loss: 0.2945 - val_pdf_loss: 3.1849 - val_reg_mse: 0.1377 - val_pdf_acc: 0.0657\n",
      "Epoch 38/128\n",
      "88/88 [==============================] - 0s 3ms/step - loss: 2.9955 - reg_loss: 0.3503 - pdf_loss: 3.2878 - reg_mse: 0.1990 - pdf_acc: 0.0729 - val_loss: 2.8915 - val_reg_loss: 0.2953 - val_pdf_loss: 3.1784 - val_reg_mse: 0.1385 - val_pdf_acc: 0.0600\n",
      "Epoch 39/128\n",
      "88/88 [==============================] - 0s 4ms/step - loss: 3.0237 - reg_loss: 0.3601 - pdf_loss: 3.3180 - reg_mse: 0.2109 - pdf_acc: 0.0729 - val_loss: 2.8914 - val_reg_loss: 0.2943 - val_pdf_loss: 3.1784 - val_reg_mse: 0.1381 - val_pdf_acc: 0.0629\n",
      "Epoch 40/128\n",
      "88/88 [==============================] - 0s 2ms/step - loss: 2.9698 - reg_loss: 0.3367 - pdf_loss: 3.2608 - reg_mse: 0.1862 - pdf_acc: 0.0732 - val_loss: 2.8833 - val_reg_loss: 0.2928 - val_pdf_loss: 3.1695 - val_reg_mse: 0.1356 - val_pdf_acc: 0.0629\n",
      "Epoch 41/128\n",
      "88/88 [==============================] - 0s 3ms/step - loss: 2.9692 - reg_loss: 0.3378 - pdf_loss: 3.2599 - reg_mse: 0.1857 - pdf_acc: 0.0721 - val_loss: 2.8802 - val_reg_loss: 0.2931 - val_pdf_loss: 3.1660 - val_reg_mse: 0.1365 - val_pdf_acc: 0.0657\n",
      "Epoch 42/128\n",
      "88/88 [==============================] - 0s 3ms/step - loss: 2.9823 - reg_loss: 0.3509 - pdf_loss: 3.2730 - reg_mse: 0.1984 - pdf_acc: 0.0736 - val_loss: 2.8744 - val_reg_loss: 0.2917 - val_pdf_loss: 3.1597 - val_reg_mse: 0.1353 - val_pdf_acc: 0.0671\n",
      "Epoch 43/128\n",
      "88/88 [==============================] - 0s 2ms/step - loss: 2.9564 - reg_loss: 0.3405 - pdf_loss: 3.2454 - reg_mse: 0.1863 - pdf_acc: 0.0700 - val_loss: 2.8688 - val_reg_loss: 0.2927 - val_pdf_loss: 3.1534 - val_reg_mse: 0.1362 - val_pdf_acc: 0.0657\n",
      "Epoch 44/128\n",
      "88/88 [==============================] - 0s 2ms/step - loss: 2.9585 - reg_loss: 0.3398 - pdf_loss: 3.2478 - reg_mse: 0.1896 - pdf_acc: 0.0818 - val_loss: 2.8637 - val_reg_loss: 0.2918 - val_pdf_loss: 3.1478 - val_reg_mse: 0.1356 - val_pdf_acc: 0.0629\n",
      "Epoch 45/128\n",
      "88/88 [==============================] - 0s 3ms/step - loss: 2.9741 - reg_loss: 0.3464 - pdf_loss: 3.2644 - reg_mse: 0.1952 - pdf_acc: 0.0704 - val_loss: 2.8615 - val_reg_loss: 0.2920 - val_pdf_loss: 3.1454 - val_reg_mse: 0.1363 - val_pdf_acc: 0.0614\n",
      "Epoch 46/128\n",
      "88/88 [==============================] - 0s 3ms/step - loss: 2.9658 - reg_loss: 0.3510 - pdf_loss: 3.2546 - reg_mse: 0.1969 - pdf_acc: 0.0704 - val_loss: 2.8573 - val_reg_loss: 0.2904 - val_pdf_loss: 3.1408 - val_reg_mse: 0.1348 - val_pdf_acc: 0.0671\n",
      "Epoch 47/128\n",
      "88/88 [==============================] - 0s 3ms/step - loss: 2.9382 - reg_loss: 0.3330 - pdf_loss: 3.2259 - reg_mse: 0.1805 - pdf_acc: 0.0757 - val_loss: 2.8520 - val_reg_loss: 0.2912 - val_pdf_loss: 3.1348 - val_reg_mse: 0.1352 - val_pdf_acc: 0.0686\n",
      "Epoch 48/128\n",
      "88/88 [==============================] - 0s 2ms/step - loss: 2.9423 - reg_loss: 0.3370 - pdf_loss: 3.2300 - reg_mse: 0.1850 - pdf_acc: 0.0700 - val_loss: 2.8485 - val_reg_loss: 0.2927 - val_pdf_loss: 3.1307 - val_reg_mse: 0.1361 - val_pdf_acc: 0.0700\n",
      "Epoch 49/128\n",
      "88/88 [==============================] - 0s 2ms/step - loss: 2.9267 - reg_loss: 0.3324 - pdf_loss: 3.2132 - reg_mse: 0.1810 - pdf_acc: 0.0711 - val_loss: 2.8429 - val_reg_loss: 0.2934 - val_pdf_loss: 3.1244 - val_reg_mse: 0.1375 - val_pdf_acc: 0.0671\n",
      "Epoch 50/128\n",
      "88/88 [==============================] - 0s 3ms/step - loss: 2.9252 - reg_loss: 0.3346 - pdf_loss: 3.2113 - reg_mse: 0.1833 - pdf_acc: 0.0732 - val_loss: 2.8410 - val_reg_loss: 0.2940 - val_pdf_loss: 3.1223 - val_reg_mse: 0.1380 - val_pdf_acc: 0.0743\n",
      "Epoch 51/128\n",
      "88/88 [==============================] - 0s 2ms/step - loss: 2.9699 - reg_loss: 0.3581 - pdf_loss: 3.2583 - reg_mse: 0.2054 - pdf_acc: 0.0668 - val_loss: 2.8376 - val_reg_loss: 0.2930 - val_pdf_loss: 3.1185 - val_reg_mse: 0.1377 - val_pdf_acc: 0.0714\n",
      "Epoch 52/128\n",
      "88/88 [==============================] - 0s 2ms/step - loss: 2.9291 - reg_loss: 0.3385 - pdf_loss: 3.2151 - reg_mse: 0.1847 - pdf_acc: 0.0693 - val_loss: 2.8331 - val_reg_loss: 0.2910 - val_pdf_loss: 3.1137 - val_reg_mse: 0.1363 - val_pdf_acc: 0.0743\n",
      "Epoch 53/128\n",
      "88/88 [==============================] - 0s 2ms/step - loss: 2.9393 - reg_loss: 0.3377 - pdf_loss: 3.2266 - reg_mse: 0.1871 - pdf_acc: 0.0782 - val_loss: 2.8306 - val_reg_loss: 0.2928 - val_pdf_loss: 3.1108 - val_reg_mse: 0.1373 - val_pdf_acc: 0.0686\n",
      "Epoch 54/128\n",
      "88/88 [==============================] - 0s 3ms/step - loss: 2.9398 - reg_loss: 0.3424 - pdf_loss: 3.2266 - reg_mse: 0.1876 - pdf_acc: 0.0761 - val_loss: 2.8272 - val_reg_loss: 0.2932 - val_pdf_loss: 3.1069 - val_reg_mse: 0.1365 - val_pdf_acc: 0.0686\n",
      "Epoch 55/128\n",
      "88/88 [==============================] - 0s 2ms/step - loss: 2.9240 - reg_loss: 0.3350 - pdf_loss: 3.2098 - reg_mse: 0.1831 - pdf_acc: 0.0750 - val_loss: 2.8224 - val_reg_loss: 0.2911 - val_pdf_loss: 3.1018 - val_reg_mse: 0.1355 - val_pdf_acc: 0.0700\n",
      "Epoch 56/128\n",
      "88/88 [==============================] - 0s 2ms/step - loss: 2.9351 - reg_loss: 0.3423 - pdf_loss: 3.2214 - reg_mse: 0.1906 - pdf_acc: 0.0686 - val_loss: 2.8193 - val_reg_loss: 0.2910 - val_pdf_loss: 3.0984 - val_reg_mse: 0.1356 - val_pdf_acc: 0.0729\n",
      "Epoch 57/128\n",
      "88/88 [==============================] - 0s 2ms/step - loss: 2.9331 - reg_loss: 0.3415 - pdf_loss: 3.2192 - reg_mse: 0.1909 - pdf_acc: 0.0679 - val_loss: 2.8161 - val_reg_loss: 0.2889 - val_pdf_loss: 3.0951 - val_reg_mse: 0.1336 - val_pdf_acc: 0.0729\n"
     ]
    }
   ],
   "source": [
    "history = model.fit(X_train, {'pdf': y_train[:,:100], 'reg': y_train[:,100]}, batch_size = 32,epochs=128,validation_split = 0.2,verbose = 1,callbacks=[EarlyStop])"
   ]
  },
  {
   "cell_type": "code",
   "execution_count": 49,
   "metadata": {},
   "outputs": [
    {
     "name": "stdout",
     "output_type": "stream",
     "text": [
      "Testing set Mean Abs Error: 0.2896 \n",
      "\n",
      "\n",
      "Testing set Mean Square Error: 0.1406 \n",
      "\n",
      "\n",
      "Testing set Root Mean Square Error: 0.3750 \n"
     ]
    }
   ],
   "source": [
    "test_predictions = model.predict(X_test)\n",
    "\n",
    "\n",
    "print(\"Testing set Mean Abs Error: {:5.4f} \".format(metrics.mean_absolute_error(y_test[:,100],test_predictions[0])))\n",
    "print(\"\\n\")\n",
    "print(\"Testing set Mean Square Error: {:5.4f} \".format(metrics.mean_squared_error(y_test[:,100],test_predictions[0])))\n",
    "print(\"\\n\")\n",
    "print(\"Testing set Root Mean Square Error: {:5.4f} \".format(np.sqrt(metrics.mean_squared_error(y_test[:,100],test_predictions[0]))))"
   ]
  },
  {
   "cell_type": "code",
   "execution_count": 58,
   "metadata": {},
   "outputs": [],
   "source": [
    "z = test_predictions[0]\n",
    "pdf = test_predictions[1]"
   ]
  },
  {
   "cell_type": "code",
   "execution_count": 50,
   "metadata": {},
   "outputs": [
    {
     "data": {
      "text/plain": [
       "<matplotlib.collections.PathCollection at 0x7f81bf0cbca0>"
      ]
     },
     "execution_count": 50,
     "metadata": {},
     "output_type": "execute_result"
    },
    {
     "data": {
      "image/png": "[encoded data removed]",
      "text/plain": [
       "<Figure size 432x288 with 1 Axes>"
      ]
     },
     "metadata": {
      "needs_background": "light"
     },
     "output_type": "display_data"
    }
   ],
   "source": [
    "plt.scatter(y_test[:,100],test_predictions[0])"
   ]
  },
  {
   "cell_type": "code",
   "execution_count": 57,
   "metadata": {},
   "outputs": [
    {
     "data": {
      "text/plain": [
       "[<matplotlib.lines.Line2D at 0x7f81bf165ca0>]"
      ]
     },
     "execution_count": 57,
     "metadata": {},
     "output_type": "execute_result"
    },
    {
     "data": {
      "image/png": "[encoded data removed]",
      "text/plain": [
       "<Figure size 432x288 with 1 Axes>"
      ]
     },
     "metadata": {
      "needs_background": "light"
     },
     "output_type": "display_data"
    }
   ],
   "source": [
    "plt.plot(np.sum(pdf[:,:],axis=0))"
   ]
  },
  {
   "cell_type": "code",
   "execution_count": 59,
   "metadata": {},
   "outputs": [],
   "source": [
    "from scipy import integrate\n",
    "avg_pdf = []\n",
    "for i in range(len(pdf_pred)):\n",
    "    avg_pdf.append(integrate.simps(z[i]*pdf[i,:]))"
   ]
  },
  {
   "cell_type": "code",
   "execution_count": 60,
   "metadata": {},
   "outputs": [
    {
     "data": {
      "text/plain": [
       "<matplotlib.collections.PathCollection at 0x7f81bee965e0>"
      ]
     },
     "execution_count": 60,
     "metadata": {},
     "output_type": "execute_result"
    },
    {
     "data": {
      "image/png": "[encoded data removed]",
      "text/plain": [
       "<Figure size 432x288 with 1 Axes>"
      ]
     },
     "metadata": {
      "needs_background": "light"
     },
     "output_type": "display_data"
    }
   ],
   "source": [
    "plt.scatter(y_test[:,100],avg_pdf)"
   ]
  },
  {
   "cell_type": "code",
   "execution_count": 61,
   "metadata": {},
   "outputs": [
    {
     "name": "stdout",
     "output_type": "stream",
     "text": [
      "MAE: 0.28990818518722944\n",
      "MSE: 0.14111626483516\n",
      "RMSE: 0.3756544487093957\n"
     ]
    }
   ],
   "source": [
    "print('MAE:', metrics.mean_absolute_error(y_test[:,100], avg_pdf))\n",
    "print('MSE:', metrics.mean_squared_error(y_test[:,100], avg_pdf))\n",
    "print('RMSE:', np.sqrt(metrics.mean_squared_error(y_test[:,100], avg_pdf)))"
   ]
  }
 ],
 "metadata": {
  "kernelspec": {
   "display_name": "Python 3",
   "language": "python",
   "name": "python3"
  },
  "language_info": {
   "codemirror_mode": {
    "name": "ipython",
    "version": 3
   },
   "file_extension": ".py",
   "mimetype": "text/x-python",
   "name": "python",
   "nbconvert_exporter": "python",
   "pygments_lexer": "ipython3",
   "version": "3.8.5"
  }
 },
 "nbformat": 4,
 "nbformat_minor": 4
}
